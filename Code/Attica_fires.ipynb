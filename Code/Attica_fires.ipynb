{
  "cells": [
    {
      "cell_type": "markdown",
      "metadata": {
        "id": "bgDr8FxkZLYS"
      },
      "source": [
        "# Data Project Pitch"
      ]
    },
    {
      "cell_type": "markdown",
      "metadata": {
        "id": "TtpNozXfZLYV"
      },
      "source": [
        "### Σύνοψη "
      ]
    },
    {
      "cell_type": "markdown",
      "metadata": {
        "id": "-c-PpTMCZLYW"
      },
      "source": [
        "Θα πραγματοποιηθεί μια έρευνα για τις εκτάσεις που έχουν καεί στην περιοχή της Αττικής, μέσα απο τα ανοιχτά δεδομένα που υπάρχουν στον ιστότοπο του πυροσβεστικού σώματος Ελλάδος. Τα αρχεία αυτά περιλαμβάνουν κατηγορίες συνόλων δεδομένων που διατίθενται και σε ανοιχτό μηχαναγνώσιμο μορφότυπο. Θα αναλυθούν τα δεδομένα που αφορούν τα δασικά συμβάντα, στα οποία επεμβαίνει το Πυροσβεστικό Σώμα. Ο υπερσύνδεσμος, που περιλαμβάνει τα σχετικά αρχεία τύπου (xls), που σε αυτά θα γίνει scraping είναι ο ακόλουθος: https://www.fireservice.gr/el/synola-dedomenon"
      ]
    },
    {
      "cell_type": "markdown",
      "metadata": {
        "id": "lRykcI9vZLYX"
      },
      "source": [
        "### Έμπνευση"
      ]
    },
    {
      "cell_type": "markdown",
      "metadata": {
        "id": "jyBf-08NZLYX"
      },
      "source": [
        "- Η έμπνευση προέρχεται απο τις εμπειρίες των μελών της ομάδας, τις οποίες αποκόμισαν απο τις φωτιές στην περιοχή των Θρακομακεδόνων το καλοκαίρι του 2022.\n",
        "- Θα προσπαθήσουμε να δημιουργήσουμε έναν αντίστοιχο χάρτη,\n",
        "με αυτόν του υπερσυνδέσμου του Υπουργείου Πολιτικής Προστασίας, \n",
        "που θα απεικονίζει την συχνότητα των περιοχών που έχουν καεί και όχι τον κίνδυνο φωτιάς:\n",
        "https://www.civilprotection.gr/el/%CE%B7%CE%BC%CE%B5%CF%81%CE%AE%CF%83%CE%B9%CE%BF%CF%82-%CF%87%CE%AC%CF%81%CF%84%CE%B7%CF%82-%CF%80%CF%81%CF%8C%CE%B2%CE%BB%CE%B5%CF%88%CE%B7%CF%82-%CE%BA%CE%B9%CE%BD%CE%B4%CF%8D%CE%BD%CE%BF%CF%85-%CF%80%CF%85%CF%81%CE%BA%CE%B1%CE%B3%CE%B9%CE%AC%CF%82-01082008\n",
        "Διαφορετικά θα θέλαμε να κάνουμε κάτι πιο σύνθετο όπως land.copernicus:\n",
        "https://land.copernicus.eu/pan-european/corine-land-cover/clc-2006/#"
      ]
    },
    {
      "cell_type": "markdown",
      "metadata": {
        "id": "kWtdFHDXZLYY"
      },
      "source": [
        "### Περαιτέρω πληροφορίες για το θέμα σας"
      ]
    },
    {
      "cell_type": "markdown",
      "metadata": {
        "id": "m84qK5YDZLYY"
      },
      "source": [
        "- <b>Τίτλος εργασίας</b>:<br>\n",
        "Fire data in Attica since 2000<br>\n",
        "Μελέτη περίπτωσης όσον αφορά τις δασικές πυρκαγίες στην Αττική απο το 2000 έως το 2021 με παραμέτρους μελέτης \n",
        "<br><br>\n",
        "- <b>Δεδομένα</b>: <i> https://www.fireservice.gr/el/synola-dedomenon</i>\n",
        "<br><br>\n",
        "- <b>Πιθανά προβλήματα/ανασφάλειες/απορίες</b>:"
      ]
    },
    {
      "cell_type": "markdown",
      "metadata": {
        "id": "rQDC1U1mZLYY"
      },
      "source": [
        "## Ερευνητικά ερωτήματα"
      ]
    },
    {
      "cell_type": "markdown",
      "metadata": {
        "id": "dO628CT_KRjM"
      },
      "source": [
        "### Τα ερευνητικά ερωτήματα που υπάρχουν είναι τα εξής:<br>"
      ]
    },
    {
      "cell_type": "markdown",
      "metadata": {
        "id": "GXXVHYc5KUY7"
      },
      "source": [
        "#### 1)\t Συχνότητα που καιγονται περιοχές (πόσες φορές έχουν καεί συγκεκριμένες περιοχές) <br>\n"
      ]
    },
    {
      "cell_type": "markdown",
      "metadata": {
        "id": "l_aSEFWcLCDa"
      },
      "source": [
        "##### Εισαγωγή βιβλιοθηκών"
      ]
    },
    {
      "cell_type": "code",
      "execution_count": 1,
      "metadata": {
        "id": "YHrIevz2KuBf"
      },
      "outputs": [],
      "source": [
        "import requests # for downloading html pages \n",
        "from bs4 import BeautifulSoup # or scraping \n",
        "from urllib3.exceptions import InsecureRequestWarning # for handling warnings in web pages\n",
        "from urllib3 import disable_warnings # for disabling warnings in web pages\n",
        "from urllib.request import urlopen, urlretrieve # for opening and retrieving urls\n",
        "import pandas as pd # for creating dataframes\n",
        "import re # for regular expressions\n",
        "import time # for creating time objects\n",
        "import numpy as np # for mathematical computations\n",
        "import datetime # for date computations"
      ]
    },
    {
      "cell_type": "markdown",
      "metadata": {
        "id": "JQ6pRA6LtZ-H"
      },
      "source": [
        "##### Κατέβασμα αρχείων δεδομένων"
      ]
    },
    {
      "cell_type": "code",
      "execution_count": 2,
      "metadata": {
        "id": "XioyPtztMLRX"
      },
      "outputs": [],
      "source": [
        "disable_warnings(InsecureRequestWarning) # disabling warnings because the site is overly secured\n",
        "\n",
        "page = requests.get('https://www.fireservice.gr/el/synola-dedomenon', verify=False) # verify = False (not using SSL verification)\n",
        "\n",
        "html = BeautifulSoup(page.text, 'html.parser') # saving the html of the page in the \"html\" variable"
      ]
    },
    {
      "cell_type": "code",
      "execution_count": 3,
      "metadata": {
        "id": "4I1RfRo-M69m"
      },
      "outputs": [],
      "source": [
        "pattern = re.compile('Δασικές Πυρκαγιές \\d{4}-?\\d?\\d?\\d?\\d?') # regular expression patterns of the links we want\n",
        "pattern2 = re.compile('\\d{4}-?\\d?\\d?\\d?\\d?') # second regular expression patterns for the links we want \n",
        "spans = html.find_all('span') # finding all the spans in the html file \n",
        "texts = [i.text for i in spans] # getting the texts from all the spans\n",
        "\n",
        "idxs = [] \n",
        "for i in range(len(texts)): # i goes through the number of texts that exist in all the spans\n",
        "  if re.match(pattern, texts[i]): # if the text in the span matches the pattern then we want the span \n",
        "    idxs.append(i) # adding the indexes that correspond to the spans we want \n",
        "\n",
        "# getting the spans with the links we want \n",
        "wanted_spans = []\n",
        "for i in idxs: # running through the indexes we found above\n",
        "  wanted_spans.append(spans[i]) # adding the spans in the wanted_spans list\n",
        "\n",
        "wanted_texts = [i.text for i in wanted_spans] # getting the text in the list from the wanted_spans\n",
        "filenames = [] # will contain the names of the files (i.e. the years)\n",
        "for i in wanted_texts: # going through the wanded texts \n",
        "  matches = pattern2.finditer(i) # creating iterator that goes through all the matches of the second pattern\n",
        "  for j in matches: # running through the iterator\n",
        "    filenames.append(j.group()) # getting the text of the first group which is the whole pattern that was found and adding it to the filenames list\n",
        "filenames = list(dict.fromkeys(filenames)) # removing duplicates\n",
        "\n",
        "xlsx_urls = []\n",
        "# getting the urls of xlsx files \n",
        "for span in wanted_spans: # running through the spans in wanted_spans\n",
        "  xlsx_urls.append(span.find_all('a')[1]['href']) # adding all the hrefs that are found in the a tags that belong in the wanted_spans\n",
        "\n",
        "xlsx_urls = list(dict.fromkeys(xlsx_urls)) # removing duplicates\n",
        "base_string = 'https://www.fireservice.gr/' # the urls lack the base string \n",
        "\n",
        "# adding the base string \n",
        "for i in range(len(xlsx_urls)):\n",
        "  xlsx_urls[i] = 'https://www.fireservice.gr/' + xlsx_urls[i]\n",
        "\n",
        "\n",
        "c = 0 # creating a counter that starts from 0\n",
        "for doc in xlsx_urls: # running all the urls that were gathered previously in the xlsx_urls list\n",
        "  time.sleep(2) # sleeping for two seconds so that the server does not get overloaded with requests\n",
        "  response = requests.get(doc, allow_redirects=True, verify=False) # getting the document inside the url\n",
        "  f = open(str(filenames[c])+\".xlsx\", 'wb') # creating a file of the type .xlsx to write the documents\n",
        "  c += 1 # adding one to the filenames list so that the next document will have the next name \n",
        "  f.write(response.content) # writing the content of the document in the file that was created above\n",
        "  f.close() # closing the file \n"
      ]
    },
    {
      "cell_type": "markdown",
      "metadata": {
        "id": "SYacvv-WuPC3"
      },
      "source": [
        "##### Εξερεύνηση δεδομένων"
      ]
    },
    {
      "cell_type": "code",
      "execution_count": 4,
      "metadata": {
        "id": "xEnnzJNGvgFh"
      },
      "outputs": [],
      "source": [
        "# the files had no column names but the column names were in the first row so we change that\n",
        "# this function renames the columns of the dataframes that were created \n",
        "def col_rename(df): \n",
        "  new = list(df.iloc[0,:].to_numpy()) # taking the first row and putting its content into a list\n",
        "  old = list(df.columns) # taking the column names and putting them in a list \n",
        "\n",
        "  change = {o : n for (o, n) in zip(old, new)} # creating a dictionary with keys the old names and values the new names\n",
        "  df = df.rename( columns = change) # using the pandas method rename to change the names \n",
        "  df = df.iloc[1:,:] # dropping the first row which has the names of the dataset (so that we don't have the names twice)\n",
        "  return df # returning the dataframe \n",
        "\n"
      ]
    },
    {
      "cell_type": "code",
      "execution_count": 5,
      "metadata": {
        "id": "_TBnbkWCzXhV"
      },
      "outputs": [],
      "source": [
        "# initializing dataframes using the read_excel method of pandas\n",
        "df_00_12 = pd.read_excel('2000-2012.xlsx')\n",
        "df_13 = pd.read_excel('2013.xlsx')\n",
        "df_14 = pd.read_excel('2014.xlsx')\n",
        "df_15 = pd.read_excel('2015.xlsx')\n",
        "df_16 = pd.read_excel('2016.xlsx')\n",
        "df_17 = pd.read_excel('2017.xlsx')\n",
        "df_18 = pd.read_excel('2018.xlsx')\n",
        "df_19 = pd.read_excel('2019.xlsx')\n",
        "df_20 = pd.read_excel('2020.xlsx')\n",
        "df_21 = pd.read_excel('2021.xlsx')\n"
      ]
    },
    {
      "cell_type": "code",
      "execution_count": 6,
      "metadata": {
        "id": "l7xtbS4B0Ep0"
      },
      "outputs": [],
      "source": [
        "# changing the column names of some problematic datasets using the function we created above\n",
        "df_00_12 = col_rename(df_00_12)\n",
        "df_13 = col_rename(df_13)\n",
        "df_15 = col_rename(df_15)\n",
        "df_16 = col_rename(df_16)\n",
        "df_17 = col_rename(df_17)\n",
        "df_18 = col_rename(df_18)\n",
        "df_19 = col_rename(df_19)\n",
        "df_20 = col_rename(df_20)\n",
        "df_21 = col_rename(df_21)\n"
      ]
    },
    {
      "cell_type": "code",
      "execution_count": 7,
      "metadata": {
        "id": "VbO5FABjrdwT"
      },
      "outputs": [],
      "source": [
        "df_00_12.rename( columns = {'Περιοχή - Τοποθεσία' : 'Περιοχή'}, inplace=True) # renaming columns \n",
        "# just so that every dataset has the same name "
      ]
    },
    {
      "cell_type": "code",
      "execution_count": 186,
      "metadata": {
        "id": "ZhldCu6QsUdG"
      },
      "outputs": [],
      "source": [
        "# Gathering all dataframes into one\n",
        "df = df_00_12.append(\n",
        "    df_13.append(\n",
        "    df_14.append(\n",
        "    df_15.append(\n",
        "    df_16.append(\n",
        "    df_17.append(\n",
        "    df_18.append(\n",
        "    df_19.append(\n",
        "    df_20.append(\n",
        "    df_21\n",
        "    )))))))))\n",
        "\n",
        "# filtering the dataframes to return only information on Attica\n",
        "df_attiki = df[df['Νομός'] == 'ΑΤΤΙΚΗΣ'] \n",
        "# removing dupplicates based on date so that we don't add more than they truly are \n",
        "df_attiki_unique = df_attiki.drop_duplicates(subset=['Ημερ/νία Έναρξης'])\n",
        "# keeping only the location feature and dropping all nan values\n",
        "location = df_attiki_unique['Περιοχή'].dropna()\n"
      ]
    },
    {
      "cell_type": "code",
      "source": [],
      "metadata": {
        "colab": {
          "base_uri": "https://localhost:8080/",
          "height": 869
        },
        "id": "YCRBywsm6EMF",
        "outputId": "b7278a00-19b8-475f-a3ff-06d62fe45a9b"
      },
      "execution_count": 187,
      "outputs": [
        {
          "output_type": "execute_result",
          "data": {
            "text/plain": [
              "                         Υπηρεσία     Δασαρχείο                  Περιοχή  \\\n",
              "1     Π.Κ. ΑΧΑΡΝΩΝ - Δ.Π.Υ.ΑΘΗΝΑΣ      ΠΕΝΤΕΛΗΣ                 ΚΡΥΟΝΕΡΙ   \n",
              "2               Π.Κ. ΠΟΛΥΔΕΝΔΡΙΟΥ  ΚΑΠΑΝΔΡΙΤΙΟΥ          ΑΓΡ.ΠΕΡ.ΑΦΙΔΝΩΝ   \n",
              "3                 1ος Π.Σ. ΑΘΗΝΩΝ      ΠΕΝΤΕΛΗΣ                   ΚΑΡΕΑΣ   \n",
              "4                 1ος Π.Σ. ΑΘΗΝΩΝ      ΠΕΝΤΕΛΗΣ  ΝΕΚΡΟΤΑΦΕΙΟ ΚΑΙΣΑΡΙΑΝΗΣ   \n",
              "5                 2ος Π.Σ. ΑΘΗΝΩΝ      ΠΑΡΝΗΘΟΣ   ΔΡΟΣΟΠΟΥΛΟΥ ΑΝΩ ΛΙΟΣΙΑ   \n",
              "...                           ...           ...                      ...   \n",
              "6934                ΕΘ.Π.Κ. ΥΔΡΑΣ           NaN                   ΜΕΘΑΝΑ   \n",
              "6935                ΕΘ.Π.Κ. ΥΔΡΑΣ           NaN                      NaN   \n",
              "6936                ΕΘ.Π.Κ. ΥΔΡΑΣ           NaN                      NaN   \n",
              "6937                 ΕΘ.Π.Κ.ΠΟΡΟΥ           NaN                      NaN   \n",
              "6938                 ΕΘ.Π.Κ.ΠΟΡΟΥ           NaN                    ΠΟΡΟΣ   \n",
              "\n",
              "        Νομός     Ημερ/νία Έναρξης Ώρα Έναρξης  Ημερ/νία Κατασβεσης  \\\n",
              "1     ΑΤΤΙΚΗΣ  2000-06-08 00:00:00    13:30:00  2000-06-08 00:00:00   \n",
              "2     ΑΤΤΙΚΗΣ  2000-06-05 00:00:00    11:44:00  2000-06-05 00:00:00   \n",
              "3     ΑΤΤΙΚΗΣ  2000-06-14 00:00:00    10:25:00  2000-06-14 00:00:00   \n",
              "4     ΑΤΤΙΚΗΣ  2000-07-23 00:00:00    11:10:00  2000-07-23 00:00:00   \n",
              "5     ΑΤΤΙΚΗΣ  2000-10-04 00:00:00    14:40:00  2000-10-04 00:00:00   \n",
              "...       ...                  ...         ...                  ...   \n",
              "6934  ΑΤΤΙΚΗΣ  2021-08-14 00:00:00       18:05                  NaN   \n",
              "6935  ΑΤΤΙΚΗΣ  2021-12-10 00:00:00       17:35  2021-12-13 00:00:00   \n",
              "6936  ΑΤΤΙΚΗΣ  2021-12-30 00:00:00       20:35                  NaN   \n",
              "6937  ΑΤΤΙΚΗΣ  2021-04-15 00:00:00       09:49                  NaN   \n",
              "6938  ΑΤΤΙΚΗΣ  2021-06-10 00:00:00       08:06                  NaN   \n",
              "\n",
              "     Ώρα Κατάσβεσης Δάση Δασική Έκταση  ... Α/Φ CL415 Α/Φ CL215 Α/Φ PZL  \\\n",
              "1          15:00:00    3             3  ...       NaN       NaN     NaN   \n",
              "2          13:00:00    0             0  ...       NaN       NaN     NaN   \n",
              "3          14:00:00    2             2  ...       NaN       NaN     NaN   \n",
              "4          13:16:00    0             2  ...       NaN       NaN     NaN   \n",
              "5          17:20:00    8             0  ...       NaN       NaN     NaN   \n",
              "...             ...  ...           ...  ...       ...       ...     ...   \n",
              "6934            NaN    0             0  ...         0         0       0   \n",
              "6935          12:28    0             0  ...         0         0       0   \n",
              "6936            NaN    0             0  ...         0         0       0   \n",
              "6937            NaN    0             0  ...         0         0       0   \n",
              "6938            NaN    0             0  ...         0         0       0   \n",
              "\n",
              "     Α/Φ GRU. Α/Α ΕΓΓΡΑΦΗΣ Α/Α ENGAGE   X-ENGAGE   Y-ENGAGE ΜΙΣΘ. ΕΛΙΚΟΠΤ.  \\\n",
              "1         NaN          NaN        NaN        NaN        NaN            NaN   \n",
              "2         NaN          NaN        NaN        NaN        NaN            NaN   \n",
              "3         NaN          NaN        NaN        NaN        NaN            NaN   \n",
              "4         NaN          NaN        NaN        NaN        NaN            NaN   \n",
              "5         NaN          NaN        NaN        NaN        NaN            NaN   \n",
              "...       ...          ...        ...        ...        ...            ...   \n",
              "6934        0      1689722     883062  23.491201  37.354126              0   \n",
              "6935        0      1722778     915970  23.491582  37.354818              0   \n",
              "6936        0      1726993     922069  23.491838   37.35455            NaN   \n",
              "6937        0      1664080     845837  23.471512  37.511112            NaN   \n",
              "6938        0      1680019     860381  23.481078  37.516617              0   \n",
              "\n",
              "     ΜΙΣΘ. ΑΕΡΟΣΚ.  \n",
              "1              NaN  \n",
              "2              NaN  \n",
              "3              NaN  \n",
              "4              NaN  \n",
              "5              NaN  \n",
              "...            ...  \n",
              "6934             2  \n",
              "6935             0  \n",
              "6936           NaN  \n",
              "6937           NaN  \n",
              "6938             0  \n",
              "\n",
              "[1961 rows x 39 columns]"
            ],
            "text/html": [
              "\n",
              "  <div id=\"df-f5c28815-43b1-4e95-8e00-92c2a276e4cd\">\n",
              "    <div class=\"colab-df-container\">\n",
              "      <div>\n",
              "<style scoped>\n",
              "    .dataframe tbody tr th:only-of-type {\n",
              "        vertical-align: middle;\n",
              "    }\n",
              "\n",
              "    .dataframe tbody tr th {\n",
              "        vertical-align: top;\n",
              "    }\n",
              "\n",
              "    .dataframe thead th {\n",
              "        text-align: right;\n",
              "    }\n",
              "</style>\n",
              "<table border=\"1\" class=\"dataframe\">\n",
              "  <thead>\n",
              "    <tr style=\"text-align: right;\">\n",
              "      <th></th>\n",
              "      <th>Υπηρεσία</th>\n",
              "      <th>Δασαρχείο</th>\n",
              "      <th>Περιοχή</th>\n",
              "      <th>Νομός</th>\n",
              "      <th>Ημερ/νία Έναρξης</th>\n",
              "      <th>Ώρα Έναρξης</th>\n",
              "      <th>Ημερ/νία Κατασβεσης</th>\n",
              "      <th>Ώρα Κατάσβεσης</th>\n",
              "      <th>Δάση</th>\n",
              "      <th>Δασική Έκταση</th>\n",
              "      <th>...</th>\n",
              "      <th>Α/Φ CL415</th>\n",
              "      <th>Α/Φ CL215</th>\n",
              "      <th>Α/Φ PZL</th>\n",
              "      <th>Α/Φ GRU.</th>\n",
              "      <th>Α/Α ΕΓΓΡΑΦΗΣ</th>\n",
              "      <th>Α/Α ENGAGE</th>\n",
              "      <th>X-ENGAGE</th>\n",
              "      <th>Y-ENGAGE</th>\n",
              "      <th>ΜΙΣΘ. ΕΛΙΚΟΠΤ.</th>\n",
              "      <th>ΜΙΣΘ. ΑΕΡΟΣΚ.</th>\n",
              "    </tr>\n",
              "  </thead>\n",
              "  <tbody>\n",
              "    <tr>\n",
              "      <th>1</th>\n",
              "      <td>Π.Κ. ΑΧΑΡΝΩΝ - Δ.Π.Υ.ΑΘΗΝΑΣ</td>\n",
              "      <td>ΠΕΝΤΕΛΗΣ</td>\n",
              "      <td>ΚΡΥΟΝΕΡΙ</td>\n",
              "      <td>ΑΤΤΙΚΗΣ</td>\n",
              "      <td>2000-06-08 00:00:00</td>\n",
              "      <td>13:30:00</td>\n",
              "      <td>2000-06-08 00:00:00</td>\n",
              "      <td>15:00:00</td>\n",
              "      <td>3</td>\n",
              "      <td>3</td>\n",
              "      <td>...</td>\n",
              "      <td>NaN</td>\n",
              "      <td>NaN</td>\n",
              "      <td>NaN</td>\n",
              "      <td>NaN</td>\n",
              "      <td>NaN</td>\n",
              "      <td>NaN</td>\n",
              "      <td>NaN</td>\n",
              "      <td>NaN</td>\n",
              "      <td>NaN</td>\n",
              "      <td>NaN</td>\n",
              "    </tr>\n",
              "    <tr>\n",
              "      <th>2</th>\n",
              "      <td>Π.Κ. ΠΟΛΥΔΕΝΔΡΙΟΥ</td>\n",
              "      <td>ΚΑΠΑΝΔΡΙΤΙΟΥ</td>\n",
              "      <td>ΑΓΡ.ΠΕΡ.ΑΦΙΔΝΩΝ</td>\n",
              "      <td>ΑΤΤΙΚΗΣ</td>\n",
              "      <td>2000-06-05 00:00:00</td>\n",
              "      <td>11:44:00</td>\n",
              "      <td>2000-06-05 00:00:00</td>\n",
              "      <td>13:00:00</td>\n",
              "      <td>0</td>\n",
              "      <td>0</td>\n",
              "      <td>...</td>\n",
              "      <td>NaN</td>\n",
              "      <td>NaN</td>\n",
              "      <td>NaN</td>\n",
              "      <td>NaN</td>\n",
              "      <td>NaN</td>\n",
              "      <td>NaN</td>\n",
              "      <td>NaN</td>\n",
              "      <td>NaN</td>\n",
              "      <td>NaN</td>\n",
              "      <td>NaN</td>\n",
              "    </tr>\n",
              "    <tr>\n",
              "      <th>3</th>\n",
              "      <td>1ος Π.Σ. ΑΘΗΝΩΝ</td>\n",
              "      <td>ΠΕΝΤΕΛΗΣ</td>\n",
              "      <td>ΚΑΡΕΑΣ</td>\n",
              "      <td>ΑΤΤΙΚΗΣ</td>\n",
              "      <td>2000-06-14 00:00:00</td>\n",
              "      <td>10:25:00</td>\n",
              "      <td>2000-06-14 00:00:00</td>\n",
              "      <td>14:00:00</td>\n",
              "      <td>2</td>\n",
              "      <td>2</td>\n",
              "      <td>...</td>\n",
              "      <td>NaN</td>\n",
              "      <td>NaN</td>\n",
              "      <td>NaN</td>\n",
              "      <td>NaN</td>\n",
              "      <td>NaN</td>\n",
              "      <td>NaN</td>\n",
              "      <td>NaN</td>\n",
              "      <td>NaN</td>\n",
              "      <td>NaN</td>\n",
              "      <td>NaN</td>\n",
              "    </tr>\n",
              "    <tr>\n",
              "      <th>4</th>\n",
              "      <td>1ος Π.Σ. ΑΘΗΝΩΝ</td>\n",
              "      <td>ΠΕΝΤΕΛΗΣ</td>\n",
              "      <td>ΝΕΚΡΟΤΑΦΕΙΟ ΚΑΙΣΑΡΙΑΝΗΣ</td>\n",
              "      <td>ΑΤΤΙΚΗΣ</td>\n",
              "      <td>2000-07-23 00:00:00</td>\n",
              "      <td>11:10:00</td>\n",
              "      <td>2000-07-23 00:00:00</td>\n",
              "      <td>13:16:00</td>\n",
              "      <td>0</td>\n",
              "      <td>2</td>\n",
              "      <td>...</td>\n",
              "      <td>NaN</td>\n",
              "      <td>NaN</td>\n",
              "      <td>NaN</td>\n",
              "      <td>NaN</td>\n",
              "      <td>NaN</td>\n",
              "      <td>NaN</td>\n",
              "      <td>NaN</td>\n",
              "      <td>NaN</td>\n",
              "      <td>NaN</td>\n",
              "      <td>NaN</td>\n",
              "    </tr>\n",
              "    <tr>\n",
              "      <th>5</th>\n",
              "      <td>2ος Π.Σ. ΑΘΗΝΩΝ</td>\n",
              "      <td>ΠΑΡΝΗΘΟΣ</td>\n",
              "      <td>ΔΡΟΣΟΠΟΥΛΟΥ ΑΝΩ ΛΙΟΣΙΑ</td>\n",
              "      <td>ΑΤΤΙΚΗΣ</td>\n",
              "      <td>2000-10-04 00:00:00</td>\n",
              "      <td>14:40:00</td>\n",
              "      <td>2000-10-04 00:00:00</td>\n",
              "      <td>17:20:00</td>\n",
              "      <td>8</td>\n",
              "      <td>0</td>\n",
              "      <td>...</td>\n",
              "      <td>NaN</td>\n",
              "      <td>NaN</td>\n",
              "      <td>NaN</td>\n",
              "      <td>NaN</td>\n",
              "      <td>NaN</td>\n",
              "      <td>NaN</td>\n",
              "      <td>NaN</td>\n",
              "      <td>NaN</td>\n",
              "      <td>NaN</td>\n",
              "      <td>NaN</td>\n",
              "    </tr>\n",
              "    <tr>\n",
              "      <th>...</th>\n",
              "      <td>...</td>\n",
              "      <td>...</td>\n",
              "      <td>...</td>\n",
              "      <td>...</td>\n",
              "      <td>...</td>\n",
              "      <td>...</td>\n",
              "      <td>...</td>\n",
              "      <td>...</td>\n",
              "      <td>...</td>\n",
              "      <td>...</td>\n",
              "      <td>...</td>\n",
              "      <td>...</td>\n",
              "      <td>...</td>\n",
              "      <td>...</td>\n",
              "      <td>...</td>\n",
              "      <td>...</td>\n",
              "      <td>...</td>\n",
              "      <td>...</td>\n",
              "      <td>...</td>\n",
              "      <td>...</td>\n",
              "      <td>...</td>\n",
              "    </tr>\n",
              "    <tr>\n",
              "      <th>6934</th>\n",
              "      <td>ΕΘ.Π.Κ. ΥΔΡΑΣ</td>\n",
              "      <td>NaN</td>\n",
              "      <td>ΜΕΘΑΝΑ</td>\n",
              "      <td>ΑΤΤΙΚΗΣ</td>\n",
              "      <td>2021-08-14 00:00:00</td>\n",
              "      <td>18:05</td>\n",
              "      <td>NaN</td>\n",
              "      <td>NaN</td>\n",
              "      <td>0</td>\n",
              "      <td>0</td>\n",
              "      <td>...</td>\n",
              "      <td>0</td>\n",
              "      <td>0</td>\n",
              "      <td>0</td>\n",
              "      <td>0</td>\n",
              "      <td>1689722</td>\n",
              "      <td>883062</td>\n",
              "      <td>23.491201</td>\n",
              "      <td>37.354126</td>\n",
              "      <td>0</td>\n",
              "      <td>2</td>\n",
              "    </tr>\n",
              "    <tr>\n",
              "      <th>6935</th>\n",
              "      <td>ΕΘ.Π.Κ. ΥΔΡΑΣ</td>\n",
              "      <td>NaN</td>\n",
              "      <td>NaN</td>\n",
              "      <td>ΑΤΤΙΚΗΣ</td>\n",
              "      <td>2021-12-10 00:00:00</td>\n",
              "      <td>17:35</td>\n",
              "      <td>2021-12-13 00:00:00</td>\n",
              "      <td>12:28</td>\n",
              "      <td>0</td>\n",
              "      <td>0</td>\n",
              "      <td>...</td>\n",
              "      <td>0</td>\n",
              "      <td>0</td>\n",
              "      <td>0</td>\n",
              "      <td>0</td>\n",
              "      <td>1722778</td>\n",
              "      <td>915970</td>\n",
              "      <td>23.491582</td>\n",
              "      <td>37.354818</td>\n",
              "      <td>0</td>\n",
              "      <td>0</td>\n",
              "    </tr>\n",
              "    <tr>\n",
              "      <th>6936</th>\n",
              "      <td>ΕΘ.Π.Κ. ΥΔΡΑΣ</td>\n",
              "      <td>NaN</td>\n",
              "      <td>NaN</td>\n",
              "      <td>ΑΤΤΙΚΗΣ</td>\n",
              "      <td>2021-12-30 00:00:00</td>\n",
              "      <td>20:35</td>\n",
              "      <td>NaN</td>\n",
              "      <td>NaN</td>\n",
              "      <td>0</td>\n",
              "      <td>0</td>\n",
              "      <td>...</td>\n",
              "      <td>0</td>\n",
              "      <td>0</td>\n",
              "      <td>0</td>\n",
              "      <td>0</td>\n",
              "      <td>1726993</td>\n",
              "      <td>922069</td>\n",
              "      <td>23.491838</td>\n",
              "      <td>37.35455</td>\n",
              "      <td>NaN</td>\n",
              "      <td>NaN</td>\n",
              "    </tr>\n",
              "    <tr>\n",
              "      <th>6937</th>\n",
              "      <td>ΕΘ.Π.Κ.ΠΟΡΟΥ</td>\n",
              "      <td>NaN</td>\n",
              "      <td>NaN</td>\n",
              "      <td>ΑΤΤΙΚΗΣ</td>\n",
              "      <td>2021-04-15 00:00:00</td>\n",
              "      <td>09:49</td>\n",
              "      <td>NaN</td>\n",
              "      <td>NaN</td>\n",
              "      <td>0</td>\n",
              "      <td>0</td>\n",
              "      <td>...</td>\n",
              "      <td>0</td>\n",
              "      <td>0</td>\n",
              "      <td>0</td>\n",
              "      <td>0</td>\n",
              "      <td>1664080</td>\n",
              "      <td>845837</td>\n",
              "      <td>23.471512</td>\n",
              "      <td>37.511112</td>\n",
              "      <td>NaN</td>\n",
              "      <td>NaN</td>\n",
              "    </tr>\n",
              "    <tr>\n",
              "      <th>6938</th>\n",
              "      <td>ΕΘ.Π.Κ.ΠΟΡΟΥ</td>\n",
              "      <td>NaN</td>\n",
              "      <td>ΠΟΡΟΣ</td>\n",
              "      <td>ΑΤΤΙΚΗΣ</td>\n",
              "      <td>2021-06-10 00:00:00</td>\n",
              "      <td>08:06</td>\n",
              "      <td>NaN</td>\n",
              "      <td>NaN</td>\n",
              "      <td>0</td>\n",
              "      <td>0</td>\n",
              "      <td>...</td>\n",
              "      <td>0</td>\n",
              "      <td>0</td>\n",
              "      <td>0</td>\n",
              "      <td>0</td>\n",
              "      <td>1680019</td>\n",
              "      <td>860381</td>\n",
              "      <td>23.481078</td>\n",
              "      <td>37.516617</td>\n",
              "      <td>0</td>\n",
              "      <td>0</td>\n",
              "    </tr>\n",
              "  </tbody>\n",
              "</table>\n",
              "<p>1961 rows × 39 columns</p>\n",
              "</div>\n",
              "      <button class=\"colab-df-convert\" onclick=\"convertToInteractive('df-f5c28815-43b1-4e95-8e00-92c2a276e4cd')\"\n",
              "              title=\"Convert this dataframe to an interactive table.\"\n",
              "              style=\"display:none;\">\n",
              "        \n",
              "  <svg xmlns=\"http://www.w3.org/2000/svg\" height=\"24px\"viewBox=\"0 0 24 24\"\n",
              "       width=\"24px\">\n",
              "    <path d=\"M0 0h24v24H0V0z\" fill=\"none\"/>\n",
              "    <path d=\"M18.56 5.44l.94 2.06.94-2.06 2.06-.94-2.06-.94-.94-2.06-.94 2.06-2.06.94zm-11 1L8.5 8.5l.94-2.06 2.06-.94-2.06-.94L8.5 2.5l-.94 2.06-2.06.94zm10 10l.94 2.06.94-2.06 2.06-.94-2.06-.94-.94-2.06-.94 2.06-2.06.94z\"/><path d=\"M17.41 7.96l-1.37-1.37c-.4-.4-.92-.59-1.43-.59-.52 0-1.04.2-1.43.59L10.3 9.45l-7.72 7.72c-.78.78-.78 2.05 0 2.83L4 21.41c.39.39.9.59 1.41.59.51 0 1.02-.2 1.41-.59l7.78-7.78 2.81-2.81c.8-.78.8-2.07 0-2.86zM5.41 20L4 18.59l7.72-7.72 1.47 1.35L5.41 20z\"/>\n",
              "  </svg>\n",
              "      </button>\n",
              "      \n",
              "  <style>\n",
              "    .colab-df-container {\n",
              "      display:flex;\n",
              "      flex-wrap:wrap;\n",
              "      gap: 12px;\n",
              "    }\n",
              "\n",
              "    .colab-df-convert {\n",
              "      background-color: #E8F0FE;\n",
              "      border: none;\n",
              "      border-radius: 50%;\n",
              "      cursor: pointer;\n",
              "      display: none;\n",
              "      fill: #1967D2;\n",
              "      height: 32px;\n",
              "      padding: 0 0 0 0;\n",
              "      width: 32px;\n",
              "    }\n",
              "\n",
              "    .colab-df-convert:hover {\n",
              "      background-color: #E2EBFA;\n",
              "      box-shadow: 0px 1px 2px rgba(60, 64, 67, 0.3), 0px 1px 3px 1px rgba(60, 64, 67, 0.15);\n",
              "      fill: #174EA6;\n",
              "    }\n",
              "\n",
              "    [theme=dark] .colab-df-convert {\n",
              "      background-color: #3B4455;\n",
              "      fill: #D2E3FC;\n",
              "    }\n",
              "\n",
              "    [theme=dark] .colab-df-convert:hover {\n",
              "      background-color: #434B5C;\n",
              "      box-shadow: 0px 1px 3px 1px rgba(0, 0, 0, 0.15);\n",
              "      filter: drop-shadow(0px 1px 2px rgba(0, 0, 0, 0.3));\n",
              "      fill: #FFFFFF;\n",
              "    }\n",
              "  </style>\n",
              "\n",
              "      <script>\n",
              "        const buttonEl =\n",
              "          document.querySelector('#df-f5c28815-43b1-4e95-8e00-92c2a276e4cd button.colab-df-convert');\n",
              "        buttonEl.style.display =\n",
              "          google.colab.kernel.accessAllowed ? 'block' : 'none';\n",
              "\n",
              "        async function convertToInteractive(key) {\n",
              "          const element = document.querySelector('#df-f5c28815-43b1-4e95-8e00-92c2a276e4cd');\n",
              "          const dataTable =\n",
              "            await google.colab.kernel.invokeFunction('convertToInteractive',\n",
              "                                                     [key], {});\n",
              "          if (!dataTable) return;\n",
              "\n",
              "          const docLinkHtml = 'Like what you see? Visit the ' +\n",
              "            '<a target=\"_blank\" href=https://colab.research.google.com/notebooks/data_table.ipynb>data table notebook</a>'\n",
              "            + ' to learn more about interactive tables.';\n",
              "          element.innerHTML = '';\n",
              "          dataTable['output_type'] = 'display_data';\n",
              "          await google.colab.output.renderOutput(dataTable, element);\n",
              "          const docLink = document.createElement('div');\n",
              "          docLink.innerHTML = docLinkHtml;\n",
              "          element.appendChild(docLink);\n",
              "        }\n",
              "      </script>\n",
              "    </div>\n",
              "  </div>\n",
              "  "
            ]
          },
          "metadata": {},
          "execution_count": 187
        }
      ]
    },
    {
      "cell_type": "code",
      "execution_count": 9,
      "metadata": {
        "colab": {
          "base_uri": "https://localhost:8080/"
        },
        "id": "1WdimQo64R7-",
        "outputId": "d9805a84-648b-4862-84b8-b744a4a87894"
      },
      "outputs": [
        {
          "output_type": "stream",
          "name": "stdout",
          "text": [
            "Συχνότητες καμένων περιοχών κατά την περίοδο 2000-2021: \n",
            "\n",
            "ΚΕΡΑΤΕΑ : 142\n",
            "ΜΕΓΑΡΑ : 41\n",
            "ΑΝΑΒΥΣΣΟΣ : 21\n",
            "ΛΑΥΡΙΟ : 18\n",
            "ΑΧΑΡΝΑΙ : 17\n",
            "ΚΑΠΑΝΔΡΙΤΙ : 16\n",
            "ΚΑΛΑΜΟΣ : 15\n",
            "ΠΑΛΙΑ ΦΩΚΑΙΑ : 12\n",
            "ΒΙΛΙΑ : 11\n",
            "ΚΡΥΟΝΕΡΙ : 9\n",
            "ΑΦΙΔΝΕΣ : 8\n",
            "ΑΣΠΡΟΠΥΡΓΟΣ : 8\n",
            "ΣΤΑΜΑΤΑ : 8\n",
            "ΑΓΙΟΣ ΚΩΝΣΤΑΝΤΙΝΟΣ : 7\n",
            "ΠΕΤΡΟΥΠΟΛΗ : 6\n",
            "ΑΝΩ ΛΙΟΣΙΑ : 6\n",
            "ΦΥΛΗ : 6\n",
            "ΚΑΜΑΤΕΡΟΥ : 6\n",
            "ΣΑΡΩΝΙΔΑ : 5\n",
            "ΜΑΡΚΟΠΟΥΛΟ : 5\n",
            "ΘΡΑΚΟΜΑΚΕΔΟΝΕΣ : 5\n",
            "ΚΗΦΙΣΙΑ : 4\n",
            "ΒΑΣΙΛΙΚΑ : 3\n",
            "ΜΑΓΟΥΛΑ : 3\n",
            "ΚΟΥΛΟΥΡΙΩΤΙΚΟ ΜΟΝΟΠΑΤΙ : 3\n",
            "ΠΕΡΑΜΑ : 3\n",
            "ΠΕΝΤΕΛΗ : 3\n",
            "ΦΑΝΕΡΩΜΕΝΗ : 3\n",
            "ΟΙΝΟΗ : 3\n",
            "ΜΗΤΑΤΑ : 3\n",
            "ΠΟΛΥΔΕΝΔΡΙ : 3\n",
            "ΙΚΑΡΙΩΤΙΚΑ ΠΕΡΑΜΑΤΟΣ : 2\n",
            "ΠΙΚΕΡΜΙ : 2\n",
            "ΚΟΥΒΑΡΑΣ : 2\n",
            "ΧΑΙΔΑΡΙ : 2\n",
            "ΑΓ.ΛΟΥΚΑΣ : 2\n",
            "ΣΑΛΑΜΙΝΑ : 2\n",
            "ΛΕΩΦ.ΝΑΤΟ ΑΣΠΡΟΠΥΡΓΟΥ : 2\n",
            "ΜΑΝΔΡΑ : 2\n",
            "ΜΕΘΑΝΑ : 2\n",
            "ΜΑΡΟΥΔΙ ΑΙΑΣ ΚΛΑΜΠ : 1\n",
            "ΑΓ. ΓΕΩΡΓΙΟΣ ΤΡΟΙΖΗΝΙΑΣ : 1\n",
            "ΓΑΛΑΤΑΣ-ΔΑΡΙΖΑ : 1\n",
            "ΔΗΜΟΣ ΤΡΟΙΖΗΝΑΣ : 1\n",
            "ΓΑΛΑΤΑΣ-ΚΟΚΚΙΝΙΑ ΤΡΟΙΖΗΝΑΣ : 1\n",
            "ΚΑΤΑΣΚΗΝΩΣΗ ΓΑΛΑΤΑ ΤΡΟΙΖΗΝΑ : 1\n",
            "ΜΑΡΚΟΠΟΥΛΟ ΩΡΩΠΟΥ : 1\n",
            "ΤΟΡΟΝΤΟ ΑΜΠΕΛΑΚΙΩΝ : 1\n",
            "ΠΕΡΙΣΤΕΡΙΑ : 1\n",
            "ΛΕΩΦ.ΦΑΝΕΡΩΜΕΝΗΣ ΑΓ.ΓΕΩΡΓΙΟΣ : 1\n",
            "ΑΙΑΝΤΕΙΟ : 1\n",
            "ΑΓΙΟΣ ΑΝΤΩΝΙΟΣ ΑΜΠΕΛΑΚΙΩΝ : 1\n",
            "ΘΕΣΗ ΣΤΡΩΜΑ ΥΜΗΤΤΟΥ ΔΑΣΟΜΕΝΗ ΚΟΡΥΦΗ : 1\n",
            "ΑΜΦΙΑΡΕΙΟ ΚΑΛΑΜΟΥ ΑΤΤΙΚΗΣ : 1\n",
            "ΠΑΙΑΝΙΑ : 1\n",
            "ΚΟΡΟΠΙ : 1\n",
            "ΕΥΔΑΠ ΜΕΝΙΔΙ : 1\n",
            "ΓΑΛΑΤΑΣ-ΣΤΕΝΟ ΜΕΘΑΝΩΝ : 1\n",
            "ΔΡΥΟΠΗ ΤΡΟΙΖΗΝΑΣ : 1\n",
            "ΛΑΥΡΙΟΝ ΠΕΡΙΟΧΗ ΜΠΟΥΝΤΑΖΕΖΑ : 1\n",
            "ΠΡΟΦΗΤΗΣ ΗΛΙΑΣ ΠΑΙΑΝΙΑ : 1\n",
            "ΣΚΛΑΒΟΥΝΙΟΛΑ ΚΕΑΣ ΚΥΚΛΑΔΩΝ : 1\n",
            "ΔΗΜΟΣ ΚΕΡΑΤΕΑΣ : 1\n",
            "ΠΑΛΑΙΑ ΦΩΚΑΙΑ : 1\n",
            "ΡΟΥΤΖΕΡΙ : 1\n",
            "ΛΑΥΡΙΟΝ-ΝΕΚΡΟΤΑΦΕΙΟ : 1\n",
            "ΔΗΜΟΣ ΚΕΡΑΤΕΑΣ ΠΕΡΙΟΧΗ ΔΑΣΚΑΛΕΙΟ : 1\n",
            "ΛΑΥΡΙΟΝ-ΒΓΕΘΙ : 1\n",
            "ΤΟΥΡΚΟΛΙΜΑΝΟ ΚΕΡΑΤΕΑ : 1\n",
            "ΝΕΡΑΚΙ : 1\n",
            "ΑΓ.ΑΝΔΡΕΑΣ : 1\n",
            "ΛΑΥΡΙΟΝ-ΤΟΥΡΚΟΕΛΙΕΣ : 1\n",
            "ΛΑΥΡΙΟΝ-ΘΩΡΙΚΟ : 1\n",
            "ΛΑΥΡΙΟΝ : 1\n",
            "ΚΟΡΟΠΙΟΝ ΜΕΡΕΝΤΑ : 1\n",
            "ΚΥΡΙΖΑ : 1\n",
            "ΠΟΤΑΜΟΣ : 1\n",
            "ΡΕΜΑ ΧΕΛΙΔΟΝΟΥΣ ΚΗΦΙΣΙΑ : 1\n",
            "ΩΡΩΠΟΣ : 1\n",
            "ΚΟΥΚΟΥΝΑΡΙ ΣΤΑΜΑΤΑ ΑΤΤΙΚΗΣ : 1\n",
            "ΔΙΟΝΥΣΟΣ : 1\n",
            "ΝΕΚΡΟΤΑΦΕΙΟ ΜΕΝΙΔΙΟΥ : 1\n",
            "ΦΙΛΟΘΕΗ : 1\n",
            "ΙΛΙΟΝ : 1\n",
            "ΒΡΑΧΟΣ ΤΟΥ ΕΒΡΑΙΟΥ ΑΝΩ ΛΙΟΣΙΑ : 1\n",
            "ΑΤΤΑΛΟΣ ΚΑΜΑΤΕΡΟ : 1\n",
            "ΜΑΡΑΘΩΝΑΣ : 1\n",
            "ΜΑΡΟΥΣΙ : 1\n",
            "ΔΡΟΣΟΠΟΥΛΟΥ ΑΝΩ ΛΙΟΣΙΑ : 1\n",
            "ΝΕΚΡΟΤΑΦΕΙΟ ΚΑΙΣΑΡΙΑΝΗΣ : 1\n",
            "ΚΑΡΕΑΣ : 1\n",
            "ΚΕΡΑΤΣΙΝΙ : 1\n",
            "ΕΛΕΥΣΙΝΑ : 1\n",
            "ΦΡΑΤΣΙΑ : 1\n",
            "ΚΥΨΕΛΗ : 1\n",
            "ΤΡΟΙΖΗΝΑ : 1\n",
            "ΔΡΥΟΠΗ : 1\n",
            "ΓΑΛΑΤΑΣ : 1\n",
            "ΦΡΑΓΜΑ ΜΑΡΑΘΩΝΑ : 1\n",
            "ΚΟΡΑΚΟΒΟΥΝΙ ΙΠΠΟΚΡΑΤΕΙΟΣ ΠΟΛΙΤΕΙΑ : 1\n",
            "21 ΧΛΜ ΛΕΩΦ.ΠΑΡΝΗΘΟΣ ΘΡΑΚΟΜΑΚ/ΝΕΣ : 1\n",
            "ΕΚΑΛΗ : 1\n",
            "ΔΡΟΣΟΠΗΓΗ ΑΦΙΔΝΩΝ : 1\n",
            "ΠΕΝΤΕΛΗΣ : 1\n",
            "ΠΕΡΙΣΤΕΡΙ : 1\n",
            "ΑΓΚΩΝΑ ΚΑΛΑΜΟΥ ΑΤΤΙΚΗΣ : 1\n",
            "ΣΠΗΛΙΑ ΝΤΑΒΕΛΗ Ν.ΠΕΝΤΕΛΗ : 1\n",
            "ΑΦΙΔΝΑΙ 27 ΧΛΜ ΑΘΗΝΩΝ-ΛΑΜΙΑΣ : 1\n",
            "ΒΑΡΝΑΒΑΣ ΑΤΤΙΚΗΣ : 1\n",
            "ΒΑΡΝΑΒΑΣ : 1\n",
            "ΡΟΔΟΠΟΛΗ : 1\n",
            "ΛΥΚΟΒΡΥΣΗ : 1\n",
            "ΥΔΡΑ : 1\n",
            "ΘΕΡΜΟΚΗΠΙΑ : 1\n",
            "ΚΟΠΡΟΤΟΠΟΣ ΚΟΥΒΑΡΑ : 1\n",
            "ΛΙΑΒΟΥΒΩΘΙ : 1\n",
            "Ν.ΙΚΟΝΙΟ ΠΕΡΑΜΑΤΟΣ : 1\n",
            "ΑΓ.ΑΙΚΑΤΕΡΙΝΗ : 1\n",
            "ΠΑΛΑΙΟΚΟΥΝΔΟΥΡΑ : 1\n",
            "ΜΙΚΡΟ ΚΑΤΕΡΙΝΙ ΜΑΝΔΡΑΣ : 1\n",
            "ΓΚΟΡΥΤΣΑ ΑΣΠΡΟΠΥΡΓΟΣ : 1\n",
            "ΑΜΠΕΛΑΚΙΑ : 1\n",
            "ΤΖΑΒΕΡΔΕΛΑ ΑΣΠΡΟΠΥΡΓΟΥ : 1\n",
            "ΛΕΩΦ.ΝΑΤΟ ΠΛΗΣΙΟΝ ΒΙΑΣΦΑΛΤ ΑΣΠΡΟΠΥΡΓΟ : 1\n",
            "ΑΙΑΣ ΚΛΑΜΠ : 1\n",
            "ΞΕΡΟΠΗΓΑΔΟ ΜΑΝΔΡΑΣ : 1\n",
            "ΝΕΑ ΠΕΡΑΜΟΣ ΜΕΓΑΡΩΝ : 1\n",
            "ΔΙΟΔΙΑ ΕΛΕΥΣΙΝΑΣ : 1\n",
            "ΚΟΡΑΚΑΣ ΑΓ.ΑΙΚΑΤΕΡΙΝΗ : 1\n",
            "ΕΛΕΥΣΙΣ : 1\n",
            "ΝΕΟΚΤΙΣΤΑ ΑΣΠΡΟΠΥΡΓΟΥ : 1\n",
            "ΘΕΣΗ ΤΖΑΒΕΡΔΕΛΑ ΑΝΩ ΛΙΟΣΙΩΝ : 1\n",
            "ΚΑΖΑΝΙΑ-ΑΝΩ ΠΕΡΑΜΑ : 1\n",
            "ΠΗΛΟΣ ΣΕΛΗΝΙΩΝ ΑΜΠΕΛΑΚΙΩΝ : 1\n",
            "ΦΕΡΙΖΑ ΚΑΛΥΒΙΩΝ : 1\n",
            "ΣΚΑΡΠΑΛΕΖΟΥ : 1\n",
            "ΚΑΝΑΚΙΑ : 1\n",
            "ΚΑΜΑΤΕΡΟ : 1\n",
            "ΜΠΙΖΑΝΙ : 1\n",
            "ΗΛΙΑΚΤΗ : 1\n",
            "ΒΟΒΟΥ : 1\n",
            "ΡΑΧΗ (ΣΚΑΡΠΑΛΕΖΟΥ) : 1\n",
            "ΠΟΡΤΕΣ-ΠΟΤΖΑ : 1\n",
            "ΑΓ.ΜΑΡΙΝΑ : 1\n",
            "ΑΙΓΙΝΑ ΠΕΡΙΟΧΕΣ ΒΡΟΧΕΙΑ-ΚΟΥΤΑΛΟΥ-ΑΛΜΠ : 1\n",
            "ΠΑΣΠΑΡΑ : 1\n",
            "ΑΝΙΤΣΑΙΟ : 1\n",
            "ΑΓ.ΝΕΚΤΑΡΙΟΣ : 1\n",
            "ΣΧΙΣΤΟ ΣΚΑΡΑΜΑΓΚΑ : 1\n",
            "ΣΧΙΣΤΟ ΚΟΡΥΔΑΛΛΟΥ : 1\n",
            "ΑΝΩ ΠΕΡΑΜΑ : 1\n",
            "ΚΥΝΟΣΟΥΡΑ ΑΜΠΕΛΑΚΙΩΝ : 1\n",
            "ΒΛΥΧΟΣ ΜΕΓΑΡΩΝ : 1\n",
            "ΑΡΧΑΙΟΛΟΓΙΚΟΣ ΧΩΡΟΣ : 1\n",
            "ΑΛΩΝΙΑ-ΝΕΑ ΖΩΗ ΜΑΝΔΡΑΣ : 1\n",
            "ΚΟΡΑΚΑ ΜΑΝΔΡΑΣ : 1\n",
            "ΠΡΟΦΗΤΗΣ ΗΛΙΑΣ : 1\n",
            "ΑΕΡΑΣ ΜΑΝΤΡΙ ΣΤΑΜΟΥΛΗ : 1\n",
            "ΖΑΧΟΥΛΗ ΚΑΤΑΣΚΗΝΩΣΕΙΣ ΑΓ.ΑΝΝΑΣ : 1\n",
            "ΚΟΚΚΙΝΟΓΗ : 1\n",
            "37 ΧΙΛ.Π.Ε.Ο.ΑΘΗΝΩΝ-ΚΟΡΙΝΘΟΥ : 1\n",
            "ΚΟΚΙΝΟΓΗ ΜΕΓΑΡΩΝ : 1\n",
            "ΠΑΝΟΡΑΜΑ : 1\n",
            "ΑΕΡΟΓΕΦΥΡΑ ΜΕΓΑΡΩΝ : 1\n",
            "ΑΓ.ΓΕΩΡΓΙΟΣ : 1\n",
            "ΕΞΩ ΒΡΥΣΗ ΜΕΓΑΡΩΝ : 1\n",
            "ΜΠΟΤΣΙΚΑ : 1\n",
            "ΜΑΪΣΤΡΑΛΙ : 1\n",
            "ΠΑΧΗ ΕΛΙΚΟΔΡΟΜΙΟ : 1\n",
            "ΠΕΙΡΑΙΑ : 1\n",
            "ΞΗΡΟΡΕΜΑ ΑΣΠΡΟΠΥΡΓΟΥ : 1\n",
            "ΗΜΕΡΟΣ ΤΟΠΟΣ ΑΣΠΡΟΠΥΡΓΟΥ : 1\n",
            "ΚΟΚΚΙΝΗ : 1\n",
            "ΓΑΛΗΝΗ-ΣΤΕΝΟ ΦΑΝΕΡΩΜΕΝΗΣ : 1\n",
            "ΔΙΟΔΙΑ ΜΑΝΔΡΑΣ : 1\n",
            "ΑΝΩ ΦΟΥΣΑ : 1\n",
            "ΑΝΩ ΒΑΣΙΛΙΚΑ : 1\n",
            "ΑΝΩ ΡΟΥΠΑΚΙ : 1\n",
            "ΧΑΣΙΑ : 1\n",
            "ΜΟΡΝΟΣ : 1\n",
            "ΚΙΝΕΤΤΑ ΣΤΑΥΡΟΣ : 1\n",
            "ΑΓΡ.ΠΕΡ.ΑΦΙΔΝΩΝ : 1\n",
            "ΑΓ.ΙΩΑΝΝΗΣ ΝΗΣΤΙΚΟΣ ΜΕΓΑΡΩΝ : 1\n",
            "ΝΕΑ ΖΩΗ : 1\n",
            "ΓΕΡΜΑΝΙΚΑ ΑΣΠΡΟΠΥΡΓΟΥ : 1\n",
            "ΕΛΕΥΣΙΣ ΟΙΚΙΣΜΟΣ ΔΕΛΠΟΥΡΑ : 1\n",
            "Ν.ΖΩΗ : 1\n",
            "ΕΝΑΝΤΙ ΕΛΛ.ΧΑΛΥΒΟΥΡΓΙΑΣ ΑΣΠΡΟΠΥΡΓΟΣ : 1\n",
            "ΕΛΕΥΣΙΣ ΚΙΝΕΤΤΑ : 1\n"
          ]
        }
      ],
      "source": [
        "fire_counts = dict(location.value_counts()) # counting how many times an area had a fire by counting the times of their presence in the data\n",
        "print('Συχνότητες καμένων περιοχών κατά την περίοδο 2000-2021: \\n')\n",
        "for i in fire_counts.keys():\n",
        "  if i != '-': # because some fires had not an area name, we have to drop this value \n",
        "    print(i, ':', fire_counts[i]) # printing the names of the areas and how many times they got burned\n"
      ]
    },
    {
      "cell_type": "code",
      "execution_count": 73,
      "metadata": {
        "colab": {
          "base_uri": "https://localhost:8080/"
        },
        "id": "Ycr55aI7XEhA",
        "outputId": "566a5d16-7985-4e35-8e14-7ce35eb41dbe"
      },
      "outputs": [
        {
          "output_type": "stream",
          "name": "stderr",
          "text": [
            "/usr/local/lib/python3.8/dist-packages/pandas/core/indexing.py:1684: SettingWithCopyWarning: \n",
            "A value is trying to be set on a copy of a slice from a DataFrame.\n",
            "Try using .loc[row_indexer,col_indexer] = value instead\n",
            "\n",
            "See the caveats in the documentation: https://pandas.pydata.org/pandas-docs/stable/user_guide/indexing.html#returning-a-view-versus-a-copy\n",
            "  self.obj[key] = infer_fill_value(value)\n",
            "/usr/local/lib/python3.8/dist-packages/pandas/core/indexing.py:1817: SettingWithCopyWarning: \n",
            "A value is trying to be set on a copy of a slice from a DataFrame.\n",
            "Try using .loc[row_indexer,col_indexer] = value instead\n",
            "\n",
            "See the caveats in the documentation: https://pandas.pydata.org/pandas-docs/stable/user_guide/indexing.html#returning-a-view-versus-a-copy\n",
            "  self._setitem_single_column(loc, value, pi)\n"
          ]
        }
      ],
      "source": [
        "# saving the fires with their unique values for the creation of the map \n",
        "df_map = df_attiki_unique.drop_duplicates(subset=['Περιοχή'])\n",
        "loc_counts_df = pd.DataFrame(location.value_counts()) # creating a dataframe that has the areas and the value counts\n",
        "\n",
        "# normalizing fire_counts so that the counts represent probability weights, were keys are the areas and the probability weights are the values \n",
        "fire_counts_normalized = {i : j for i,j in zip(fire_counts.keys() , list(list(fire_counts.values()) / max(list(fire_counts.values()))))}\n",
        "df_map.index = range(191) # reindexing the dataframe so that it starts from 0 and doesn't have random indexes\n",
        "# adding the weights to the dataframe \n",
        "for i in list(fire_counts_normalized.keys()): # going through all the names of the areas\n",
        "  for j in range(len(df_map)): # going through the length of the set of the areas (which means they only show up once)\n",
        "    if i == df_map.loc[j, \"Περιοχή\"]: # if the area i is found in the df_map dataframe\n",
        "      df_map.loc[j, 'intensity'] = fire_counts_normalized[i] # then add it's intensity in a different column called intensity \n",
        "\n",
        "df_map.to_excel('fires.xlsx') # extracting the dataframe with the intensity weights in a .xlsx file "
      ]
    },
    {
      "cell_type": "code",
      "source": [
        "for i in list(fire_counts_normalized.keys()): # going through all the names of the areas\n",
        "  for j in range(len(loc_counts_df)):\n",
        "    if i == loc_counts_df.index[j]:\n",
        "      loc_counts_df.loc[i, 'intensity'] = fire_counts_normalized[i]\n",
        "      \n",
        "loc_counts_df.columns = [''] * len(loc_counts_df.columns) # changing the names of the columns to no names \n",
        "loc_counts_df = loc_counts_df[np.invert(loc_counts_df.index == '-')] # taking all the areas that don't have the value '-'\n",
        "loc_counts_df.to_excel('fire_counts.xlsx') # extracting this dataframe into an .xlsx file "
      ],
      "metadata": {
        "id": "iroovXwlhTOi"
      },
      "execution_count": 78,
      "outputs": []
    },
    {
      "cell_type": "code",
      "execution_count": 12,
      "metadata": {
        "colab": {
          "base_uri": "https://localhost:8080/"
        },
        "id": "er2K476LwLiL",
        "outputId": "fde8744d-9c7e-40da-9e45-e7316192e742"
      },
      "outputs": [
        {
          "output_type": "stream",
          "name": "stdout",
          "text": [
            "Περιοχή με τις περισσότερες φωτιές στο διάστημα της περιόδου 2000-2021 = ΚΕΡΑΤΕΑ(142)\n"
          ]
        }
      ],
      "source": [
        "print('Περιοχή με τις περισσότερες φωτιές στο διάστημα της περιόδου 2000-2021 = {}({})'\n",
        "      .format(max(fire_counts, key=lambda key: fire_counts[key]),  max(list(fire_counts.values())) )) # creating a lamda function that extracts the area that corresponds to the biggest value of the intensity"
      ]
    },
    {
      "cell_type": "markdown",
      "metadata": {
        "id": "s0IggACkKYkO"
      },
      "source": [
        "#### 2)\tΣύνολο καμμένων εκτάσεων <br>\n"
      ]
    },
    {
      "cell_type": "code",
      "execution_count": 13,
      "metadata": {
        "colab": {
          "base_uri": "https://localhost:8080/"
        },
        "id": "nHHJcN3Rr4pP",
        "outputId": "8ac6902f-3254-435a-d70b-735609074c40"
      },
      "outputs": [
        {
          "output_type": "execute_result",
          "data": {
            "text/plain": [
              "190"
            ]
          },
          "metadata": {},
          "execution_count": 13
        }
      ],
      "source": [
        "len(fire_counts) # counts the areas that have been burned"
      ]
    },
    {
      "cell_type": "markdown",
      "metadata": {
        "id": "IcB1-6vrKeWK"
      },
      "source": [
        "#### 3)\t Πόσες δασικές και πόσες γεωργικές εκτάσεις και διάφορες άλλες ερωτήσεις <br>\n"
      ]
    },
    {
      "cell_type": "code",
      "execution_count": 14,
      "metadata": {
        "id": "gRjvjOyOMO5N"
      },
      "outputs": [],
      "source": [
        "fire_counts = dict(location.value_counts())"
      ]
    },
    {
      "cell_type": "code",
      "execution_count": 15,
      "metadata": {
        "colab": {
          "base_uri": "https://localhost:8080/"
        },
        "id": "zsVLJv3-MO5O",
        "outputId": "37227b52-6939-4044-fe5d-c0552e9f1306"
      },
      "outputs": [
        {
          "output_type": "stream",
          "name": "stdout",
          "text": [
            "Περιοχή με τις περισσότερες φωτιές στο διάστημα της περιόδου 2000-2021 = ΚΕΡΑΤΕΑ(142)\n"
          ]
        }
      ],
      "source": [
        "print('Περιοχή με τις περισσότερες φωτιές στο διάστημα της περιόδου 2000-2021 = {}({})'\n",
        "      .format(max(fire_counts, key=lambda key: fire_counts[key]),  max(list(fire_counts.values())) ))"
      ]
    },
    {
      "cell_type": "code",
      "execution_count": 16,
      "metadata": {
        "colab": {
          "base_uri": "https://localhost:8080/"
        },
        "id": "eI0DEgtJP_H7",
        "outputId": "995c46e8-fd8b-4283-831e-0ddd3bbafab0"
      },
      "outputs": [
        {
          "output_type": "stream",
          "name": "stdout",
          "text": [
            "Συνολικός αριθμός πυρκαγιών στην Ελλάδα : 3556\n"
          ]
        }
      ],
      "source": [
        "print('Συνολικός αριθμός πυρκαγιών στην Ελλάδα : {}'.format( len(df.drop_duplicates(subset='Ημερ/νία Έναρξης'))))"
      ]
    },
    {
      "cell_type": "code",
      "execution_count": 17,
      "metadata": {
        "colab": {
          "base_uri": "https://localhost:8080/"
        },
        "id": "SAfN40fzQrXq",
        "outputId": "a972c0f3-fa36-4db6-befe-0411342f949a"
      },
      "outputs": [
        {
          "output_type": "stream",
          "name": "stdout",
          "text": [
            "Συνολικός αριθμός πυρκαγιών στην Αττική : 1247\n"
          ]
        }
      ],
      "source": [
        "print('Συνολικός αριθμός πυρκαγιών στην Αττική : {}'.format( len(df_attiki.drop_duplicates(subset='Ημερ/νία Έναρξης'))))"
      ]
    },
    {
      "cell_type": "code",
      "execution_count": 18,
      "metadata": {
        "colab": {
          "base_uri": "https://localhost:8080/"
        },
        "id": "fHDsu9zNbuGc",
        "outputId": "f7961c45-95a3-4533-bc2a-61e06644d2d2"
      },
      "outputs": [
        {
          "output_type": "stream",
          "name": "stdout",
          "text": [
            "Συνολικός αριθμός καμμένων στρεμμάτων δασών στην Αττική : 127952\n"
          ]
        }
      ],
      "source": [
        "print('Συνολικός αριθμός καμμένων στρεμμάτων δασών στην Αττική : {}'.format(round(df_attiki_unique['Δασική Έκταση'].sum())))"
      ]
    },
    {
      "cell_type": "code",
      "execution_count": 19,
      "metadata": {
        "colab": {
          "base_uri": "https://localhost:8080/"
        },
        "id": "vPHGWMXnfWy5",
        "outputId": "1ced1821-b4ab-48c6-e96b-468d7434f722"
      },
      "outputs": [
        {
          "output_type": "stream",
          "name": "stdout",
          "text": [
            "Συνολικός αριθμός καμμένων στρεμμάτων γεωργικών εκτάσεων στην Αττική : 46486\n"
          ]
        }
      ],
      "source": [
        "print('Συνολικός αριθμός καμμένων στρεμμάτων γεωργικών εκτάσεων στην Αττική : {}'.format(round(df_attiki_unique['Γεωργικές Εκτάσεις'].sum())))"
      ]
    },
    {
      "cell_type": "code",
      "execution_count": 20,
      "metadata": {
        "colab": {
          "base_uri": "https://localhost:8080/"
        },
        "id": "B2A0gkjGYJQK",
        "outputId": "e3273bb7-c9e1-4ab6-95ce-9bfa5b34d42f"
      },
      "outputs": [
        {
          "output_type": "stream",
          "name": "stdout",
          "text": [
            "Συνολικός αριθμός καμμένων δασών : 773\n"
          ]
        }
      ],
      "source": [
        "print('Συνολικός αριθμός καμμένων δασών : {}'.format(len(df_attiki_unique[df_attiki_unique['Δασική Έκταση'] == 0])))"
      ]
    },
    {
      "cell_type": "code",
      "execution_count": 21,
      "metadata": {
        "colab": {
          "base_uri": "https://localhost:8080/"
        },
        "id": "vrrjIruJgCIc",
        "outputId": "817cd7a2-7997-4b97-f275-f2e0c16d0ff6"
      },
      "outputs": [
        {
          "output_type": "stream",
          "name": "stdout",
          "text": [
            "Συνολικός αριθμός καμμένων γεωργικών εκτάσεων : 970\n"
          ]
        }
      ],
      "source": [
        "print('Συνολικός αριθμός καμμένων γεωργικών εκτάσεων : {}'.format(len(df_attiki_unique[df_attiki_unique['Γεωργικές Εκτάσεις'] == 0])))"
      ]
    },
    {
      "cell_type": "code",
      "source": [
        "\n",
        "first = list(df_attiki['Σκουπιδότοποι'].dropna().to_numpy())\n",
        "second = list(df_attiki['Σκουπι-δότοποι'].dropna().to_numpy())\n",
        "\n",
        "skoup = first + second\n",
        "df_attiki['Σκουπιδότοποι'] = skoup"
      ],
      "metadata": {
        "colab": {
          "base_uri": "https://localhost:8080/"
        },
        "id": "btZEye0ftc2o",
        "outputId": "4944e472-f520-444e-9f05-4aebf0b8b4f4"
      },
      "execution_count": 144,
      "outputs": [
        {
          "output_type": "stream",
          "name": "stderr",
          "text": [
            "<ipython-input-144-5e21532a2f38>:5: SettingWithCopyWarning: \n",
            "A value is trying to be set on a copy of a slice from a DataFrame.\n",
            "Try using .loc[row_indexer,col_indexer] = value instead\n",
            "\n",
            "See the caveats in the documentation: https://pandas.pydata.org/pandas-docs/stable/user_guide/indexing.html#returning-a-view-versus-a-copy\n",
            "  df_attiki['Σκουπιδότοποι'] = skoup\n"
          ]
        }
      ]
    },
    {
      "cell_type": "code",
      "source": [
        "lands = df_attiki[['Άλση', 'Σκουπιδότοποι', 'Καλάμια - Βάλτοι', 'Γεωργικές Εκτάσεις','Χορτ/κές Εκτάσεις','Υπολλείματα Καλλιεργειών'\n",
        ",'Δάση', 'Δασική Έκταση' ]]\n",
        "\n",
        "types = ['Άλση', 'Σκουπιδότοποι', 'Καλάμια - Βάλτοι', 'Γεωργικές Εκτάσεις','Χορτ/κές Εκτάσεις','Υπολλείματα Καλλιεργειών','Δάση', 'Δασική Έκταση' ]\n",
        "for t in types:\n",
        "  lands[t] = lands[t].astype(float)\n",
        "\n",
        "lands = lands.apply(lambda x: np.where(x>0, 1, x))\n",
        "\n"
      ],
      "metadata": {
        "colab": {
          "base_uri": "https://localhost:8080/"
        },
        "id": "nMZoCpqHrrjs",
        "outputId": "cae4d102-b440-4a5b-8a55-7aa85af5842e"
      },
      "execution_count": 166,
      "outputs": [
        {
          "output_type": "stream",
          "name": "stderr",
          "text": [
            "<ipython-input-166-2e9bda8c04c3>:6: SettingWithCopyWarning: \n",
            "A value is trying to be set on a copy of a slice from a DataFrame.\n",
            "Try using .loc[row_indexer,col_indexer] = value instead\n",
            "\n",
            "See the caveats in the documentation: https://pandas.pydata.org/pandas-docs/stable/user_guide/indexing.html#returning-a-view-versus-a-copy\n",
            "  lands[t] = lands[t].astype(float)\n"
          ]
        }
      ]
    },
    {
      "cell_type": "code",
      "source": [
        "plt.figure(figsize=(15,10))\n",
        "plt.xticks(fontsize=15)\n",
        "plt.yticks(fontsize=15)\n",
        "\n",
        "\n",
        "colors = [\"red\", \"gray\", \"blue\", \"purple\", \"orange\", \"purple\", \"forestgreen\", \"limegreen\"]\n",
        "lands.sum().plot(kind='bar', color=colors)\n",
        "plt.title('Συχνότητες πυρκαγιάς ανά είδος έκτασης', fontsize=20)\n",
        "plt.savefig('landhist.png', bbox_inches='tight')"
      ],
      "metadata": {
        "colab": {
          "base_uri": "https://localhost:8080/",
          "height": 808
        },
        "id": "jVEMuxPzsmms",
        "outputId": "d465a502-92a8-4800-cf81-22d9b2be4000"
      },
      "execution_count": 179,
      "outputs": [
        {
          "output_type": "display_data",
          "data": {
            "text/plain": [
              "<Figure size 1080x720 with 1 Axes>"
            ],
            "image/png": "[encoded data removed]"
          },
          "metadata": {
            "needs_background": "light"
          }
        }
      ]
    },
    {
      "cell_type": "markdown",
      "metadata": {
        "id": "x4Do2xqoZLYZ"
      },
      "source": [
        "#### 4)\tΧρόνος κατάσβεσης<br>"
      ]
    },
    {
      "cell_type": "code",
      "execution_count": 196,
      "metadata": {
        "id": "8awbfoEaxM_D"
      },
      "outputs": [],
      "source": [
        "# getting a dataframe that has only the listed values and dropping the nan values\n",
        "fire_time = df_attiki[['Περιοχή','Ημερ/νία Έναρξης', 'Ημερ/νία Κατασβεσης', 'Ώρα Έναρξης', 'Ώρα Κατάσβεσης']].dropna()\n",
        "\n",
        "fire_time.reset_index(drop=True, inplace=True)\n"
      ]
    },
    {
      "cell_type": "code",
      "source": [
        "# correcting the start time and making it a time object so that we can perform time additions and subtractions\n",
        "for i in range(len(fire_time.iloc[:,3])):\n",
        "  fire_time.iloc[i, 3] = pd.to_datetime(str(fire_time.iloc[i, 3])).time()"
      ],
      "metadata": {
        "id": "zhrtLiRh7HQB"
      },
      "execution_count": 197,
      "outputs": []
    },
    {
      "cell_type": "code",
      "source": [
        "for i in range(len(fire_time.iloc[:,4])):\n",
        "  fire_time.iloc[i, 4] = pd.to_datetime(str(fire_time.iloc[i, 4])).time() # doing the same as above\n"
      ],
      "metadata": {
        "id": "47hNAbfR7JDx"
      },
      "execution_count": 198,
      "outputs": []
    },
    {
      "cell_type": "code",
      "execution_count": 201,
      "metadata": {
        "id": "jMIMlNuMNqYv"
      },
      "outputs": [],
      "source": [
        "\n",
        "for i in range(len(fire_time)): # i is going through the length of the data frame \n",
        "  try:\n",
        "\n",
        "    start = datetime.datetime.combine(pd.to_datetime(fire_time.iloc[i,1]), fire_time.iloc[i,3]) # combining the start date and time\n",
        "    end = datetime.datetime.combine(pd.to_datetime(fire_time.iloc[i,2]), fire_time.iloc[i,4]) # combining the end date and time\n",
        "    time_elapsed = end - start # finding the differene\n",
        "\n",
        "    if time_elapsed.total_seconds() > 0 or np.invert(np.isnan(time_elapsed.total_seconds)):\n",
        "      fire_time.loc[i,'Χρόνος κατάσβεσης(ώρες)'] = round(time_elapsed.total_seconds()/60/60,2)\n",
        "\n",
        "  except: # if an error is thrown, move to the next iteration \n",
        "      continue\n",
        "\n",
        "fire_time = fire_time.dropna() # dropping any nan values"
      ]
    },
    {
      "cell_type": "code",
      "source": [
        "fire_time = fire_time[fire_time.iloc[:,5] < 500]"
      ],
      "metadata": {
        "id": "PAWWN9CC8u-O"
      },
      "execution_count": 218,
      "outputs": []
    },
    {
      "cell_type": "code",
      "execution_count": 103,
      "metadata": {
        "id": "CT7TdqK9Uvqx"
      },
      "outputs": [],
      "source": [
        "fire_time.to_excel('fire_time.xlsx') # extracting the dataframe that was created"
      ]
    },
    {
      "cell_type": "code",
      "source": [
        "xticks = np.sort([i.strftime('%Y-%m-%d') for i in fire_time.iloc[:,2].to_numpy()])"
      ],
      "metadata": {
        "id": "DzmMdZbe5Af2"
      },
      "execution_count": 226,
      "outputs": []
    },
    {
      "cell_type": "code",
      "source": [
        "import matplotlib.pyplot as plt\n",
        "plt.figure(figsize=(15,10))\n",
        "y = fire_time.iloc[:, 5]\n",
        "x = [i for i in range(len(fire_time))]\n",
        "plt.title('Ώρες κατάσβεσης άνα περιστατικό πυρκαγιάς', fontsize=20)\n",
        "plt.xticks(x[::30], xticks[::30], rotation=60, fontsize=12)\n",
        "plt.xlabel('Ημερομηνία', fontsize=15)\n",
        "plt.ylabel('Ώρες', fontsize=15)\n",
        "\n",
        "plt.scatter(x, y)\n",
        "plt.savefig('extinguish_time.png', bbox_inches='tight')\n",
        "plt.show()"
      ],
      "metadata": {
        "colab": {
          "base_uri": "https://localhost:8080/",
          "height": 690
        },
        "id": "e_QhdyXxndrE",
        "outputId": "62e656de-da6f-4a42-d756-ed8ea28fc3d7"
      },
      "execution_count": 228,
      "outputs": [
        {
          "output_type": "display_data",
          "data": {
            "text/plain": [
              "<Figure size 1080x720 with 1 Axes>"
            ],
            "image/png": "[encoded data removed]"
          },
          "metadata": {
            "needs_background": "light"
          }
        }
      ]
    },
    {
      "cell_type": "markdown",
      "metadata": {
        "id": "rAR1P9gVZLYZ"
      },
      "source": [
        "## Προέρευνα/δουλειά που έχετε ήδη κάνει στο πλαίσιο του σχεδιασμού του πρότζεκτ"
      ]
    },
    {
      "cell_type": "markdown",
      "metadata": {
        "id": "bYQEVtZlZLYa"
      },
      "source": [
        "Η προεργασία, που κάναμε αφορούσε την έρευση ενός θέματος για το οποίο υπήρχαν διαθέσιμες κατηγορίες συνόλων δεδομένων \n",
        "που διατίθενται και σε ανοιχτό μηχαναγνώσιμο μορφότυπο. Καταλήξαμε στην επιλογή του θέματος με τις πυρκαγίες, καθώς στον ιστότοπο του ΠΣ Ελλάδας, υπήρχαν τα δεδομένα αυτά. Επιλέξαμε στην συνέχεια τρια με τέσσερα ερευνητικά, που θέλουμε να απαντήσουμε μέσω scraping των αρχείων  xls. Τέλος φτιάξαμε το αρχείο αυτό, που μας ζητήθηκε."
      ]
    },
    {
      "cell_type": "markdown",
      "metadata": {
        "id": "sJy9O-X2ZLYa"
      },
      "source": [
        "## Απαντήστε \"YES\" ή \"NO\" στα παρακάτω ερωτήματα\n",
        "<i>(Στο στάδιο της πρότασης θέματος που βρίσκεστε, το αναμενόμενο είναι YES. Όσα περισσότερα NO, τόσο λιγότερο έχετε προετοιμαστεί και, άρα, χρειάζεται να σχεδιάσετε καλύτερα το πρότζεκτ σας.)</i>"
      ]
    },
    {
      "cell_type": "code",
      "execution_count": 29,
      "metadata": {
        "colab": {
          "base_uri": "https://localhost:8080/",
          "height": 52
        },
        "id": "cdexLfX_ZLYb",
        "outputId": "0a84eb0a-7e05-4878-a498-87a459ea825a"
      },
      "outputs": [
        {
          "name": "stdout",
          "output_type": "stream",
          "text": [
            "Έχετε ψάξει για πηγές δεδομένων για το θέμα που θέλετε να κάνετε;yes\n"
          ]
        },
        {
          "output_type": "execute_result",
          "data": {
            "text/plain": [
              "'yes'"
            ],
            "application/vnd.google.colaboratory.intrinsic+json": {
              "type": "string"
            }
          },
          "metadata": {},
          "execution_count": 29
        }
      ],
      "source": [
        "input(\"Έχετε ψάξει για πηγές δεδομένων για το θέμα που θέλετε να κάνετε;\")   "
      ]
    },
    {
      "cell_type": "code",
      "execution_count": 30,
      "metadata": {
        "colab": {
          "base_uri": "https://localhost:8080/",
          "height": 52
        },
        "id": "VU6o1ob4ZLYd",
        "outputId": "ce1a86fb-fc16-48d3-befe-d32744b7583a"
      },
      "outputs": [
        {
          "name": "stdout",
          "output_type": "stream",
          "text": [
            "Έχετε βρει δεδομένα/πηγές δεδομένων για το θέμα που θέλετε να κάνετε;YESyes\n"
          ]
        },
        {
          "output_type": "execute_result",
          "data": {
            "text/plain": [
              "'yes'"
            ],
            "application/vnd.google.colaboratory.intrinsic+json": {
              "type": "string"
            }
          },
          "metadata": {},
          "execution_count": 30
        }
      ],
      "source": [
        "input(\"Έχετε βρει δεδομένα/πηγές δεδομένων για το θέμα που θέλετε να κάνετε;\" \"YES\")"
      ]
    },
    {
      "cell_type": "code",
      "execution_count": 31,
      "metadata": {
        "colab": {
          "base_uri": "https://localhost:8080/",
          "height": 52
        },
        "id": "hFta9ws8ZLYd",
        "outputId": "6e8f2e36-2e6c-41c0-c04d-bf4b88a58654"
      },
      "outputs": [
        {
          "name": "stdout",
          "output_type": "stream",
          "text": [
            "Έχετε περάσει χρόνο εξερευνώντας τα δεδομένα σας; Έχετε καταλάβει τι έχετε, σε ποια μορφή είναι και ενδεχομένως τι σας λείπει;YESyes\n"
          ]
        },
        {
          "output_type": "execute_result",
          "data": {
            "text/plain": [
              "'yes'"
            ],
            "application/vnd.google.colaboratory.intrinsic+json": {
              "type": "string"
            }
          },
          "metadata": {},
          "execution_count": 31
        }
      ],
      "source": [
        "input(\"Έχετε περάσει χρόνο εξερευνώντας τα δεδομένα σας; Έχετε καταλάβει τι έχετε, σε ποια μορφή είναι και ενδεχομένως τι σας λείπει;\" \"YES\")"
      ]
    },
    {
      "cell_type": "code",
      "execution_count": 32,
      "metadata": {
        "colab": {
          "base_uri": "https://localhost:8080/",
          "height": 52
        },
        "id": "rRu9SkDqZLYe",
        "outputId": "ef7843a7-2059-44cc-e303-b58910f87d1e"
      },
      "outputs": [
        {
          "name": "stdout",
          "output_type": "stream",
          "text": [
            "Έχετε διατυπώσει τα ερευνητικά ερωτήματά σας;YESyes\n"
          ]
        },
        {
          "output_type": "execute_result",
          "data": {
            "text/plain": [
              "'yes'"
            ],
            "application/vnd.google.colaboratory.intrinsic+json": {
              "type": "string"
            }
          },
          "metadata": {},
          "execution_count": 32
        }
      ],
      "source": [
        "input(\"Έχετε διατυπώσει τα ερευνητικά ερωτήματά σας;\" \"YES\")"
      ]
    },
    {
      "cell_type": "code",
      "execution_count": 33,
      "metadata": {
        "colab": {
          "base_uri": "https://localhost:8080/",
          "height": 52
        },
        "id": "k-IGQbhAZLYe",
        "outputId": "e00169f6-e55d-46ca-c485-dbdb1cca1845"
      },
      "outputs": [
        {
          "name": "stdout",
          "output_type": "stream",
          "text": [
            "Έχετε σκεφτεί πώς θα αναλύσετε τα δεδομένα σας, για να απαντήσετε τα ερευνητικά ερωτήματά σας;YESyes\n"
          ]
        },
        {
          "output_type": "execute_result",
          "data": {
            "text/plain": [
              "'yes'"
            ],
            "application/vnd.google.colaboratory.intrinsic+json": {
              "type": "string"
            }
          },
          "metadata": {},
          "execution_count": 33
        }
      ],
      "source": [
        "input(\"Έχετε σκεφτεί πώς θα αναλύσετε τα δεδομένα σας, για να απαντήσετε τα ερευνητικά ερωτήματά σας;\" \"YES\")"
      ]
    },
    {
      "cell_type": "code",
      "execution_count": 34,
      "metadata": {
        "colab": {
          "base_uri": "https://localhost:8080/",
          "height": 52
        },
        "id": "tVtSkZ2SZLYe",
        "outputId": "69f10ca1-57d9-48ba-d92e-1e8331dd9d95"
      },
      "outputs": [
        {
          "name": "stdout",
          "output_type": "stream",
          "text": [
            "Έχετε αρχίσει να σκέφτεστε πώς θα μπορούσατε να οπτικοποιήσετε τις αναλύσεις σας για το τελικό σας story;YESyes\n"
          ]
        },
        {
          "output_type": "execute_result",
          "data": {
            "text/plain": [
              "'yes'"
            ],
            "application/vnd.google.colaboratory.intrinsic+json": {
              "type": "string"
            }
          },
          "metadata": {},
          "execution_count": 34
        }
      ],
      "source": [
        "input(\"Έχετε αρχίσει να σκέφτεστε πώς θα μπορούσατε να οπτικοποιήσετε τις αναλύσεις σας για το τελικό σας story;\" \"YES\")"
      ]
    },
    {
      "cell_type": "code",
      "execution_count": 35,
      "metadata": {
        "colab": {
          "base_uri": "https://localhost:8080/",
          "height": 72
        },
        "id": "vWoDA4oGZLYf",
        "outputId": "aace0154-2a0c-40e9-db97-a82b55bada2e"
      },
      "outputs": [
        {
          "name": "stdout",
          "output_type": "stream",
          "text": [
            "Έχετε καταθέσει το pitch σας (το προτεινόμενο θέμα σας) σε ένα notebook με filename PITCH_ΟΝΟΜΑΤΕΠΩΝΥΜΟ1_ΟΝΟΜΑΤΕΠΩΝΥΜΟ2;ΑΥΤΟ ΕΔΩ ΕΙΝΑΙyes\n"
          ]
        },
        {
          "output_type": "execute_result",
          "data": {
            "text/plain": [
              "'yes'"
            ],
            "application/vnd.google.colaboratory.intrinsic+json": {
              "type": "string"
            }
          },
          "metadata": {},
          "execution_count": 35
        }
      ],
      "source": [
        "input(\"Έχετε καταθέσει το pitch σας (το προτεινόμενο θέμα σας) σε ένα notebook με filename PITCH_ΟΝΟΜΑΤΕΠΩΝΥΜΟ1_ΟΝΟΜΑΤΕΠΩΝΥΜΟ2;\" \"ΑΥΤΟ ΕΔΩ ΕΙΝΑΙ\")"
      ]
    },
    {
      "cell_type": "markdown",
      "metadata": {
        "id": "s61CAny3ZLYf"
      },
      "source": [
        "### Feedback!\n",
        "Mπράβο για την ιδέα και που έχετε ήδη αρχίσει να σχεδιάζετε το πρότζεκτ σας! \n",
        "\n",
        "Προτείνω τα εξής: \n",
        "1. Διευκρινίστε εάν θα ασχοληθείτε μόνο με δασικά συμβάντα ή και με αστικά\n",
        "2. Διευκρινίστε ποιο είναι το χρονικό διάστημα μελέτης\n",
        "3. Περάστε χρόνο με τα δεδομένα σας: εξερευνήστε τα data για το χρονικό διάστημα που σας ενδιαφέρει και καταλάβετε τι έχετε, τι δεν έχετε και ποιες τυχόν διαφορές υπάρχουν από χρονιά σε χρονιά στα data που παρέχονται\n",
        "4. Σκεφτείτε τι ακριβώς θα χαρτογραφήσετε: δήμους; περιοχές; ακριβή τοποθεσία συμβάντος; \n",
        "5. Με βάση το 4, αρχίστε να σκέφτεστε μια στρατηγική για το πώς θα χειριστείτε τα δεδομένα σας, ώστε να πετύχετε τη χαρτογράφηση που θέλετε\n",
        "\n",
        "Όσον αφορά στη συλλογή δεδομένων, γράφετε: «Ο υπερσύνδεσμος, που περιλαμβάνει τα σχετικά αρχεία τύπου (xls), που σε αυτά θα γίνει scraping είναι ο ακόλουθος: https://www.fireservice.gr/el/synola-dedomenon». Δεν  χρειάζεται να κάνετε scraping, καθώς τα δεδομένα σας διατίθενται ήδη σε μηχαναγνώσιμο format. Ωστόσο, σας προτείνω να γράψετε έναν μικρό scraper που θα κάνει download τα αρχεία .xls για εξάσκηση :)\n",
        "\n",
        "Ως προς την προεργασία/προέρευνα: Στο κομμάτι αυτό του pitch, ο σκοπός δεν είναι να κάνουμε μία περίληψη όσων έχουμε ήδη περιγράψει παραπάνω. Σκοπός της προέρευνας είναι να κάνετε μια πρώτη, πολύ πρώιμη ανάλυση που θα σας δώσει ένα πρώτο εύρημα, το οποίο θα χρησιμοποιήσετε για να εξηγήσετε σε κάποιον γιατί αυτό το κομμάτι είναι σημαντικό και γιατί έχει νόημα η περαιτέρω δημοσιογραφική έρευνα."
      ]
    }
  ],
  "metadata": {
    "colab": {
      "provenance": []
    },
    "kernelspec": {
      "display_name": "Python 3",
      "language": "python",
      "name": "python3"
    },
    "language_info": {
      "codemirror_mode": {
        "name": "ipython",
        "version": 3
      },
      "file_extension": ".py",
      "mimetype": "text/x-python",
      "name": "python",
      "nbconvert_exporter": "python",
      "pygments_lexer": "ipython3",
      "version": "3.8.5 (v3.8.5:580fbb018f, Jul 20 2020, 12:11:27) \n[Clang 6.0 (clang-600.0.57)]"
    },
    "vscode": {
      "interpreter": {
        "hash": "0adcc2737ebf6a4a119f135174df96668767fca1ef1112612db5ecadf2b6d608"
      }
    }
  },
  "nbformat": 4,
  "nbformat_minor": 0
}