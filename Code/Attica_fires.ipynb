{
  "cells": [
    {
      "cell_type": "markdown",
      "metadata": {
        "id": "bgDr8FxkZLYS"
      },
      "source": [
        "# Data Project Pitch"
      ]
    },
    {
      "cell_type": "markdown",
      "metadata": {
        "id": "TtpNozXfZLYV"
      },
      "source": [
        "### Σύνοψη "
      ]
    },
    {
      "cell_type": "markdown",
      "metadata": {
        "id": "-c-PpTMCZLYW"
      },
      "source": [
        "Θα πραγματοποιηθεί μια έρευνα για τις εκτάσεις που έχουν καεί στην περιοχή της Αττικής, μέσα απο τα ανοιχτά δεδομένα που υπάρχουν στον ιστότοπο του πυροσβεστικού σώματος Ελλάδος. Τα αρχεία αυτά περιλαμβάνουν κατηγορίες συνόλων δεδομένων που διατίθενται και σε ανοιχτό μηχαναγνώσιμο μορφότυπο. Θα αναλυθούν τα δεδομένα που αφορούν τα δασικά συμβάντα, στα οποία επεμβαίνει το Πυροσβεστικό Σώμα. Ο υπερσύνδεσμος, που περιλαμβάνει τα σχετικά αρχεία τύπου (xls), που σε αυτά θα γίνει scraping είναι ο ακόλουθος: https://www.fireservice.gr/el/synola-dedomenon"
      ]
    },
    {
      "cell_type": "markdown",
      "metadata": {
        "id": "lRykcI9vZLYX"
      },
      "source": [
        "### Έμπνευση"
      ]
    },
    {
      "cell_type": "markdown",
      "metadata": {
        "id": "jyBf-08NZLYX"
      },
      "source": [
        "- Η έμπνευση προέρχεται απο τις εμπειρίες των μελών της ομάδας, τις οποίες αποκόμισαν απο τις φωτιές στην περιοχή των Θρακομακεδόνων το καλοκαίρι του 2022.\n",
        "- Θα προσπαθήσουμε να δημιουργήσουμε έναν αντίστοιχο χάρτη,\n",
        "με αυτόν του υπερσυνδέσμου του Υπουργείου Πολιτικής Προστασίας, \n",
        "που θα απεικονίζει την συχνότητα των περιοχών που έχουν καεί και όχι τον κίνδυνο φωτιάς:\n",
        "https://www.civilprotection.gr/el/%CE%B7%CE%BC%CE%B5%CF%81%CE%AE%CF%83%CE%B9%CE%BF%CF%82-%CF%87%CE%AC%CF%81%CF%84%CE%B7%CF%82-%CF%80%CF%81%CF%8C%CE%B2%CE%BB%CE%B5%CF%88%CE%B7%CF%82-%CE%BA%CE%B9%CE%BD%CE%B4%CF%8D%CE%BD%CE%BF%CF%85-%CF%80%CF%85%CF%81%CE%BA%CE%B1%CE%B3%CE%B9%CE%AC%CF%82-01082008\n",
        "Διαφορετικά θα θέλαμε να κάνουμε κάτι πιο σύνθετο όπως land.copernicus:\n",
        "https://land.copernicus.eu/pan-european/corine-land-cover/clc-2006/#"
      ]
    },
    {
      "cell_type": "markdown",
      "metadata": {
        "id": "kWtdFHDXZLYY"
      },
      "source": [
        "### Περαιτέρω πληροφορίες για το θέμα σας"
      ]
    },
    {
      "cell_type": "markdown",
      "metadata": {
        "id": "m84qK5YDZLYY"
      },
      "source": [
        "- <b>Τίτλος εργασίας</b>:<br>\n",
        "Fire data in Attica since 2000<br>\n",
        "Μελέτη περίπτωσης όσον αφορά τις δασικές πυρκαγίες στην Αττική απο το 2000 έως το 2021 με παραμέτρους μελέτης \n",
        "<br><br>\n",
        "- <b>Δεδομένα</b>: <i> https://www.fireservice.gr/el/synola-dedomenon</i>\n",
        "<br><br>\n",
        "- <b>Πιθανά προβλήματα/ανασφάλειες/απορίες</b>:"
      ]
    },
    {
      "cell_type": "markdown",
      "metadata": {
        "id": "rQDC1U1mZLYY"
      },
      "source": [
        "## Ερευνητικά ερωτήματα"
      ]
    },
    {
      "cell_type": "markdown",
      "metadata": {
        "id": "dO628CT_KRjM"
      },
      "source": [
        "### Τα ερευνητικά ερωτήματα που υπάρχουν είναι τα εξής:<br>"
      ]
    },
    {
      "cell_type": "markdown",
      "metadata": {
        "id": "GXXVHYc5KUY7"
      },
      "source": [
        "#### 1)\t Συχνότητα που καιγονται περιοχές (πόσες φορές έχουν καεί συγκεκριμένες περιοχές) <br>\n"
      ]
    },
    {
      "cell_type": "markdown",
      "metadata": {
        "id": "l_aSEFWcLCDa"
      },
      "source": [
        "##### Εισαγωγή βιβλιοθηκών"
      ]
    },
    {
      "cell_type": "code",
      "execution_count": 1,
      "metadata": {
        "id": "YHrIevz2KuBf"
      },
      "outputs": [],
      "source": [
        "import requests # for downloading html pages \n",
        "from bs4 import BeautifulSoup # or scraping \n",
        "from urllib3.exceptions import InsecureRequestWarning # for handling warnings in web pages\n",
        "from urllib3 import disable_warnings # for disabling warnings in web pages\n",
        "from urllib.request import urlopen, urlretrieve # for opening and retrieving urls\n",
        "import pandas as pd # for creating dataframes\n",
        "import re # for regular expressions\n",
        "import time # for creating time objects\n",
        "import numpy as np # for mathematical computations\n",
        "import datetime # for date computations"
      ]
    },
    {
      "cell_type": "markdown",
      "metadata": {
        "id": "JQ6pRA6LtZ-H"
      },
      "source": [
        "##### Κατέβασμα αρχείων δεδομένων"
      ]
    },
    {
      "cell_type": "code",
      "execution_count": 2,
      "metadata": {
        "id": "XioyPtztMLRX"
      },
      "outputs": [],
      "source": [
        "disable_warnings(InsecureRequestWarning) # disabling warnings because the site is overly secured\n",
        "\n",
        "page = requests.get('https://www.fireservice.gr/el/synola-dedomenon', verify=False) # verify = False (not using SSL verification)\n",
        "\n",
        "html = BeautifulSoup(page.text, 'html.parser') # saving the html of the page in the \"html\" variable"
      ]
    },
    {
      "cell_type": "code",
      "execution_count": 3,
      "metadata": {
        "id": "4I1RfRo-M69m"
      },
      "outputs": [],
      "source": [
        "pattern = re.compile('Δασικές Πυρκαγιές \\d{4}-?\\d?\\d?\\d?\\d?') # regular expression patterns of the links we want\n",
        "pattern2 = re.compile('\\d{4}-?\\d?\\d?\\d?\\d?') # second regular expression patterns for the links we want \n",
        "spans = html.find_all('span') # finding all the spans in the html file \n",
        "texts = [i.text for i in spans] # getting the texts from all the spans\n",
        "\n",
        "idxs = [] \n",
        "for i in range(len(texts)): # i goes through the number of texts that exist in all the spans\n",
        "  if re.match(pattern, texts[i]): # if the text in the span matches the pattern then we want the span \n",
        "    idxs.append(i) # adding the indexes that correspond to the spans we want \n",
        "\n",
        "# getting the spans with the links we want \n",
        "wanted_spans = []\n",
        "for i in idxs: # running through the indexes we found above\n",
        "  wanted_spans.append(spans[i]) # adding the spans in the wanted_spans list\n",
        "\n",
        "wanted_texts = [i.text for i in wanted_spans] # getting the text in the list from the wanted_spans\n",
        "filenames = [] # will contain the names of the files (i.e. the years)\n",
        "for i in wanted_texts: # going through the wanded texts \n",
        "  matches = pattern2.finditer(i) # creating iterator that goes through all the matches of the second pattern\n",
        "  for j in matches: # running through the iterator\n",
        "    filenames.append(j.group()) # getting the text of the first group which is the whole pattern that was found and adding it to the filenames list\n",
        "filenames = list(dict.fromkeys(filenames)) # removing duplicates\n",
        "\n",
        "xlsx_urls = []\n",
        "# getting the urls of xlsx files \n",
        "for span in wanted_spans: # running through the spans in wanted_spans\n",
        "  xlsx_urls.append(span.find_all('a')[1]['href']) # adding all the hrefs that are found in the a tags that belong in the wanted_spans\n",
        "\n",
        "xlsx_urls = list(dict.fromkeys(xlsx_urls)) # removing duplicates\n",
        "base_string = 'https://www.fireservice.gr/' # the urls lack the base string \n",
        "\n",
        "# adding the base string \n",
        "for i in range(len(xlsx_urls)):\n",
        "  xlsx_urls[i] = 'https://www.fireservice.gr/' + xlsx_urls[i]\n",
        "\n",
        "\n",
        "c = 0 # creating a counter that starts from 0\n",
        "for doc in xlsx_urls: # running all the urls that were gathered previously in the xlsx_urls list\n",
        "  time.sleep(2) # sleeping for two seconds so that the server does not get overloaded with requests\n",
        "  response = requests.get(doc, allow_redirects=True, verify=False) # getting the document inside the url\n",
        "  f = open(str(filenames[c])+\".xlsx\", 'wb') # creating a file of the type .xlsx to write the documents\n",
        "  c += 1 # adding one to the filenames list so that the next document will have the next name \n",
        "  f.write(response.content) # writing the content of the document in the file that was created above\n",
        "  f.close() # closing the file \n"
      ]
    },
    {
      "cell_type": "markdown",
      "metadata": {
        "id": "SYacvv-WuPC3"
      },
      "source": [
        "##### Εξερεύνηση δεδομένων"
      ]
    },
    {
      "cell_type": "code",
      "execution_count": 4,
      "metadata": {
        "id": "xEnnzJNGvgFh"
      },
      "outputs": [],
      "source": [
        "# the files had no column names but the column names were in the first row so we change that\n",
        "# this function renames the columns of the dataframes that were created \n",
        "def col_rename(df): \n",
        "  new = list(df.iloc[0,:].to_numpy()) # taking the first row and putting its content into a list\n",
        "  old = list(df.columns) # taking the column names and putting them in a list \n",
        "\n",
        "  change = {o : n for (o, n) in zip(old, new)} # creating a dictionary with keys the old names and values the new names\n",
        "  df = df.rename( columns = change) # using the pandas method rename to change the names \n",
        "  df = df.iloc[1:,:] # dropping the first row which has the names of the dataset (so that we don't have the names twice)\n",
        "  return df # returning the dataframe \n",
        "\n"
      ]
    },
    {
      "cell_type": "code",
      "execution_count": 5,
      "metadata": {
        "id": "_TBnbkWCzXhV"
      },
      "outputs": [],
      "source": [
        "# initializing dataframes using the read_excel method of pandas\n",
        "df_00_12 = pd.read_excel('2000-2012.xlsx')\n",
        "df_13 = pd.read_excel('2013.xlsx')\n",
        "df_14 = pd.read_excel('2014.xlsx')\n",
        "df_15 = pd.read_excel('2015.xlsx')\n",
        "df_16 = pd.read_excel('2016.xlsx')\n",
        "df_17 = pd.read_excel('2017.xlsx')\n",
        "df_18 = pd.read_excel('2018.xlsx')\n",
        "df_19 = pd.read_excel('2019.xlsx')\n",
        "df_20 = pd.read_excel('2020.xlsx')\n",
        "df_21 = pd.read_excel('2021.xlsx')\n"
      ]
    },
    {
      "cell_type": "code",
      "execution_count": 6,
      "metadata": {
        "id": "l7xtbS4B0Ep0"
      },
      "outputs": [],
      "source": [
        "# changing the column names of some problematic datasets using the function we created above\n",
        "df_00_12 = col_rename(df_00_12)\n",
        "df_13 = col_rename(df_13)\n",
        "df_15 = col_rename(df_15)\n",
        "df_16 = col_rename(df_16)\n",
        "df_17 = col_rename(df_17)\n",
        "df_18 = col_rename(df_18)\n",
        "df_19 = col_rename(df_19)\n",
        "df_20 = col_rename(df_20)\n",
        "df_21 = col_rename(df_21)\n"
      ]
    },
    {
      "cell_type": "code",
      "execution_count": 7,
      "metadata": {
        "id": "VbO5FABjrdwT"
      },
      "outputs": [],
      "source": [
        "df_00_12.rename( columns = {'Περιοχή - Τοποθεσία' : 'Περιοχή'}, inplace=True) # renaming columns \n",
        "# just so that every dataset has the same name "
      ]
    },
    {
      "cell_type": "code",
      "execution_count": 8,
      "metadata": {
        "id": "ZhldCu6QsUdG"
      },
      "outputs": [],
      "source": [
        "# Gathering all dataframes into one\n",
        "df = df_00_12.append(\n",
        "    df_13.append(\n",
        "    df_14.append(\n",
        "    df_15.append(\n",
        "    df_16.append(\n",
        "    df_17.append(\n",
        "    df_18.append(\n",
        "    df_19.append(\n",
        "    df_20.append(\n",
        "    df_21\n",
        "    )))))))))\n",
        "\n",
        "# filtering the dataframes to return only information on Attica\n",
        "df_attiki = df[df['Νομός'] == 'ΑΤΤΙΚΗΣ'] \n",
        "# removing dupplicates based on date so that we don't add more than they truly are \n",
        "df_attiki_unique = df_attiki.drop_duplicates(subset=['Ημερ/νία Έναρξης'])\n",
        "# keeping only the location feature and dropping all nan values\n",
        "location = df_attiki_unique['Περιοχή'].dropna()\n"
      ]
    },
    {
      "cell_type": "code",
      "execution_count": 9,
      "metadata": {
        "colab": {
          "base_uri": "https://localhost:8080/"
        },
        "id": "1WdimQo64R7-",
        "outputId": "55b402bd-5412-4e66-bad8-3ff3bc64eaab"
      },
      "outputs": [
        {
          "output_type": "stream",
          "name": "stdout",
          "text": [
            "Συχνότητες καμένων περιοχών κατά την περίοδο 2000-2021: \n",
            "\n",
            "ΚΕΡΑΤΕΑ : 142\n",
            "ΜΕΓΑΡΑ : 41\n",
            "ΑΝΑΒΥΣΣΟΣ : 21\n",
            "ΛΑΥΡΙΟ : 18\n",
            "ΑΧΑΡΝΑΙ : 17\n",
            "ΚΑΠΑΝΔΡΙΤΙ : 16\n",
            "ΚΑΛΑΜΟΣ : 15\n",
            "ΠΑΛΙΑ ΦΩΚΑΙΑ : 12\n",
            "ΒΙΛΙΑ : 11\n",
            "ΚΡΥΟΝΕΡΙ : 9\n",
            "ΑΦΙΔΝΕΣ : 8\n",
            "ΑΣΠΡΟΠΥΡΓΟΣ : 8\n",
            "ΣΤΑΜΑΤΑ : 8\n",
            "ΑΓΙΟΣ ΚΩΝΣΤΑΝΤΙΝΟΣ : 7\n",
            "ΠΕΤΡΟΥΠΟΛΗ : 6\n",
            "ΑΝΩ ΛΙΟΣΙΑ : 6\n",
            "ΦΥΛΗ : 6\n",
            "ΚΑΜΑΤΕΡΟΥ : 6\n",
            "ΣΑΡΩΝΙΔΑ : 5\n",
            "ΜΑΡΚΟΠΟΥΛΟ : 5\n",
            "ΘΡΑΚΟΜΑΚΕΔΟΝΕΣ : 5\n",
            "ΚΗΦΙΣΙΑ : 4\n",
            "ΒΑΣΙΛΙΚΑ : 3\n",
            "ΜΑΓΟΥΛΑ : 3\n",
            "ΚΟΥΛΟΥΡΙΩΤΙΚΟ ΜΟΝΟΠΑΤΙ : 3\n",
            "ΠΕΡΑΜΑ : 3\n",
            "ΠΕΝΤΕΛΗ : 3\n",
            "ΦΑΝΕΡΩΜΕΝΗ : 3\n",
            "ΟΙΝΟΗ : 3\n",
            "ΜΗΤΑΤΑ : 3\n",
            "ΠΟΛΥΔΕΝΔΡΙ : 3\n",
            "ΙΚΑΡΙΩΤΙΚΑ ΠΕΡΑΜΑΤΟΣ : 2\n",
            "ΠΙΚΕΡΜΙ : 2\n",
            "ΚΟΥΒΑΡΑΣ : 2\n",
            "ΧΑΙΔΑΡΙ : 2\n",
            "ΑΓ.ΛΟΥΚΑΣ : 2\n",
            "ΣΑΛΑΜΙΝΑ : 2\n",
            "ΛΕΩΦ.ΝΑΤΟ ΑΣΠΡΟΠΥΡΓΟΥ : 2\n",
            "ΜΑΝΔΡΑ : 2\n",
            "ΜΕΘΑΝΑ : 2\n",
            "ΜΑΡΟΥΔΙ ΑΙΑΣ ΚΛΑΜΠ : 1\n",
            "ΑΓ. ΓΕΩΡΓΙΟΣ ΤΡΟΙΖΗΝΙΑΣ : 1\n",
            "ΓΑΛΑΤΑΣ-ΔΑΡΙΖΑ : 1\n",
            "ΔΗΜΟΣ ΤΡΟΙΖΗΝΑΣ : 1\n",
            "ΓΑΛΑΤΑΣ-ΚΟΚΚΙΝΙΑ ΤΡΟΙΖΗΝΑΣ : 1\n",
            "ΚΑΤΑΣΚΗΝΩΣΗ ΓΑΛΑΤΑ ΤΡΟΙΖΗΝΑ : 1\n",
            "ΜΑΡΚΟΠΟΥΛΟ ΩΡΩΠΟΥ : 1\n",
            "ΤΟΡΟΝΤΟ ΑΜΠΕΛΑΚΙΩΝ : 1\n",
            "ΠΕΡΙΣΤΕΡΙΑ : 1\n",
            "ΛΕΩΦ.ΦΑΝΕΡΩΜΕΝΗΣ ΑΓ.ΓΕΩΡΓΙΟΣ : 1\n",
            "ΑΙΑΝΤΕΙΟ : 1\n",
            "ΑΓΙΟΣ ΑΝΤΩΝΙΟΣ ΑΜΠΕΛΑΚΙΩΝ : 1\n",
            "ΘΕΣΗ ΣΤΡΩΜΑ ΥΜΗΤΤΟΥ ΔΑΣΟΜΕΝΗ ΚΟΡΥΦΗ : 1\n",
            "ΑΜΦΙΑΡΕΙΟ ΚΑΛΑΜΟΥ ΑΤΤΙΚΗΣ : 1\n",
            "ΠΑΙΑΝΙΑ : 1\n",
            "ΚΟΡΟΠΙ : 1\n",
            "ΕΥΔΑΠ ΜΕΝΙΔΙ : 1\n",
            "ΓΑΛΑΤΑΣ-ΣΤΕΝΟ ΜΕΘΑΝΩΝ : 1\n",
            "ΔΡΥΟΠΗ ΤΡΟΙΖΗΝΑΣ : 1\n",
            "ΛΑΥΡΙΟΝ ΠΕΡΙΟΧΗ ΜΠΟΥΝΤΑΖΕΖΑ : 1\n",
            "ΠΡΟΦΗΤΗΣ ΗΛΙΑΣ ΠΑΙΑΝΙΑ : 1\n",
            "ΣΚΛΑΒΟΥΝΙΟΛΑ ΚΕΑΣ ΚΥΚΛΑΔΩΝ : 1\n",
            "ΔΗΜΟΣ ΚΕΡΑΤΕΑΣ : 1\n",
            "ΠΑΛΑΙΑ ΦΩΚΑΙΑ : 1\n",
            "ΡΟΥΤΖΕΡΙ : 1\n",
            "ΛΑΥΡΙΟΝ-ΝΕΚΡΟΤΑΦΕΙΟ : 1\n",
            "ΔΗΜΟΣ ΚΕΡΑΤΕΑΣ ΠΕΡΙΟΧΗ ΔΑΣΚΑΛΕΙΟ : 1\n",
            "ΛΑΥΡΙΟΝ-ΒΓΕΘΙ : 1\n",
            "ΤΟΥΡΚΟΛΙΜΑΝΟ ΚΕΡΑΤΕΑ : 1\n",
            "ΝΕΡΑΚΙ : 1\n",
            "ΑΓ.ΑΝΔΡΕΑΣ : 1\n",
            "ΛΑΥΡΙΟΝ-ΤΟΥΡΚΟΕΛΙΕΣ : 1\n",
            "ΛΑΥΡΙΟΝ-ΘΩΡΙΚΟ : 1\n",
            "ΛΑΥΡΙΟΝ : 1\n",
            "ΚΟΡΟΠΙΟΝ ΜΕΡΕΝΤΑ : 1\n",
            "ΚΥΡΙΖΑ : 1\n",
            "ΠΟΤΑΜΟΣ : 1\n",
            "ΡΕΜΑ ΧΕΛΙΔΟΝΟΥΣ ΚΗΦΙΣΙΑ : 1\n",
            "ΩΡΩΠΟΣ : 1\n",
            "ΚΟΥΚΟΥΝΑΡΙ ΣΤΑΜΑΤΑ ΑΤΤΙΚΗΣ : 1\n",
            "ΔΙΟΝΥΣΟΣ : 1\n",
            "ΝΕΚΡΟΤΑΦΕΙΟ ΜΕΝΙΔΙΟΥ : 1\n",
            "ΦΙΛΟΘΕΗ : 1\n",
            "ΙΛΙΟΝ : 1\n",
            "ΒΡΑΧΟΣ ΤΟΥ ΕΒΡΑΙΟΥ ΑΝΩ ΛΙΟΣΙΑ : 1\n",
            "ΑΤΤΑΛΟΣ ΚΑΜΑΤΕΡΟ : 1\n",
            "ΜΑΡΑΘΩΝΑΣ : 1\n",
            "ΜΑΡΟΥΣΙ : 1\n",
            "ΔΡΟΣΟΠΟΥΛΟΥ ΑΝΩ ΛΙΟΣΙΑ : 1\n",
            "ΝΕΚΡΟΤΑΦΕΙΟ ΚΑΙΣΑΡΙΑΝΗΣ : 1\n",
            "ΚΑΡΕΑΣ : 1\n",
            "ΚΕΡΑΤΣΙΝΙ : 1\n",
            "ΕΛΕΥΣΙΝΑ : 1\n",
            "ΦΡΑΤΣΙΑ : 1\n",
            "ΚΥΨΕΛΗ : 1\n",
            "ΤΡΟΙΖΗΝΑ : 1\n",
            "ΔΡΥΟΠΗ : 1\n",
            "ΓΑΛΑΤΑΣ : 1\n",
            "ΦΡΑΓΜΑ ΜΑΡΑΘΩΝΑ : 1\n",
            "ΚΟΡΑΚΟΒΟΥΝΙ ΙΠΠΟΚΡΑΤΕΙΟΣ ΠΟΛΙΤΕΙΑ : 1\n",
            "21 ΧΛΜ ΛΕΩΦ.ΠΑΡΝΗΘΟΣ ΘΡΑΚΟΜΑΚ/ΝΕΣ : 1\n",
            "ΕΚΑΛΗ : 1\n",
            "ΔΡΟΣΟΠΗΓΗ ΑΦΙΔΝΩΝ : 1\n",
            "ΠΕΝΤΕΛΗΣ : 1\n",
            "ΠΕΡΙΣΤΕΡΙ : 1\n",
            "ΑΓΚΩΝΑ ΚΑΛΑΜΟΥ ΑΤΤΙΚΗΣ : 1\n",
            "ΣΠΗΛΙΑ ΝΤΑΒΕΛΗ Ν.ΠΕΝΤΕΛΗ : 1\n",
            "ΑΦΙΔΝΑΙ 27 ΧΛΜ ΑΘΗΝΩΝ-ΛΑΜΙΑΣ : 1\n",
            "ΒΑΡΝΑΒΑΣ ΑΤΤΙΚΗΣ : 1\n",
            "ΒΑΡΝΑΒΑΣ : 1\n",
            "ΡΟΔΟΠΟΛΗ : 1\n",
            "ΛΥΚΟΒΡΥΣΗ : 1\n",
            "ΥΔΡΑ : 1\n",
            "ΘΕΡΜΟΚΗΠΙΑ : 1\n",
            "ΚΟΠΡΟΤΟΠΟΣ ΚΟΥΒΑΡΑ : 1\n",
            "ΛΙΑΒΟΥΒΩΘΙ : 1\n",
            "Ν.ΙΚΟΝΙΟ ΠΕΡΑΜΑΤΟΣ : 1\n",
            "ΑΓ.ΑΙΚΑΤΕΡΙΝΗ : 1\n",
            "ΠΑΛΑΙΟΚΟΥΝΔΟΥΡΑ : 1\n",
            "ΜΙΚΡΟ ΚΑΤΕΡΙΝΙ ΜΑΝΔΡΑΣ : 1\n",
            "ΓΚΟΡΥΤΣΑ ΑΣΠΡΟΠΥΡΓΟΣ : 1\n",
            "ΑΜΠΕΛΑΚΙΑ : 1\n",
            "ΤΖΑΒΕΡΔΕΛΑ ΑΣΠΡΟΠΥΡΓΟΥ : 1\n",
            "ΛΕΩΦ.ΝΑΤΟ ΠΛΗΣΙΟΝ ΒΙΑΣΦΑΛΤ ΑΣΠΡΟΠΥΡΓΟ : 1\n",
            "ΑΙΑΣ ΚΛΑΜΠ : 1\n",
            "ΞΕΡΟΠΗΓΑΔΟ ΜΑΝΔΡΑΣ : 1\n",
            "ΝΕΑ ΠΕΡΑΜΟΣ ΜΕΓΑΡΩΝ : 1\n",
            "ΔΙΟΔΙΑ ΕΛΕΥΣΙΝΑΣ : 1\n",
            "ΚΟΡΑΚΑΣ ΑΓ.ΑΙΚΑΤΕΡΙΝΗ : 1\n",
            "ΕΛΕΥΣΙΣ : 1\n",
            "ΝΕΟΚΤΙΣΤΑ ΑΣΠΡΟΠΥΡΓΟΥ : 1\n",
            "ΘΕΣΗ ΤΖΑΒΕΡΔΕΛΑ ΑΝΩ ΛΙΟΣΙΩΝ : 1\n",
            "ΚΑΖΑΝΙΑ-ΑΝΩ ΠΕΡΑΜΑ : 1\n",
            "ΠΗΛΟΣ ΣΕΛΗΝΙΩΝ ΑΜΠΕΛΑΚΙΩΝ : 1\n",
            "ΦΕΡΙΖΑ ΚΑΛΥΒΙΩΝ : 1\n",
            "ΣΚΑΡΠΑΛΕΖΟΥ : 1\n",
            "ΚΑΝΑΚΙΑ : 1\n",
            "ΚΑΜΑΤΕΡΟ : 1\n",
            "ΜΠΙΖΑΝΙ : 1\n",
            "ΗΛΙΑΚΤΗ : 1\n",
            "ΒΟΒΟΥ : 1\n",
            "ΡΑΧΗ (ΣΚΑΡΠΑΛΕΖΟΥ) : 1\n",
            "ΠΟΡΤΕΣ-ΠΟΤΖΑ : 1\n",
            "ΑΓ.ΜΑΡΙΝΑ : 1\n",
            "ΑΙΓΙΝΑ ΠΕΡΙΟΧΕΣ ΒΡΟΧΕΙΑ-ΚΟΥΤΑΛΟΥ-ΑΛΜΠ : 1\n",
            "ΠΑΣΠΑΡΑ : 1\n",
            "ΑΝΙΤΣΑΙΟ : 1\n",
            "ΑΓ.ΝΕΚΤΑΡΙΟΣ : 1\n",
            "ΣΧΙΣΤΟ ΣΚΑΡΑΜΑΓΚΑ : 1\n",
            "ΣΧΙΣΤΟ ΚΟΡΥΔΑΛΛΟΥ : 1\n",
            "ΑΝΩ ΠΕΡΑΜΑ : 1\n",
            "ΚΥΝΟΣΟΥΡΑ ΑΜΠΕΛΑΚΙΩΝ : 1\n",
            "ΒΛΥΧΟΣ ΜΕΓΑΡΩΝ : 1\n",
            "ΑΡΧΑΙΟΛΟΓΙΚΟΣ ΧΩΡΟΣ : 1\n",
            "ΑΛΩΝΙΑ-ΝΕΑ ΖΩΗ ΜΑΝΔΡΑΣ : 1\n",
            "ΚΟΡΑΚΑ ΜΑΝΔΡΑΣ : 1\n",
            "ΠΡΟΦΗΤΗΣ ΗΛΙΑΣ : 1\n",
            "ΑΕΡΑΣ ΜΑΝΤΡΙ ΣΤΑΜΟΥΛΗ : 1\n",
            "ΖΑΧΟΥΛΗ ΚΑΤΑΣΚΗΝΩΣΕΙΣ ΑΓ.ΑΝΝΑΣ : 1\n",
            "ΚΟΚΚΙΝΟΓΗ : 1\n",
            "37 ΧΙΛ.Π.Ε.Ο.ΑΘΗΝΩΝ-ΚΟΡΙΝΘΟΥ : 1\n",
            "ΚΟΚΙΝΟΓΗ ΜΕΓΑΡΩΝ : 1\n",
            "ΠΑΝΟΡΑΜΑ : 1\n",
            "ΑΕΡΟΓΕΦΥΡΑ ΜΕΓΑΡΩΝ : 1\n",
            "ΑΓ.ΓΕΩΡΓΙΟΣ : 1\n",
            "ΕΞΩ ΒΡΥΣΗ ΜΕΓΑΡΩΝ : 1\n",
            "ΜΠΟΤΣΙΚΑ : 1\n",
            "ΜΑΪΣΤΡΑΛΙ : 1\n",
            "ΠΑΧΗ ΕΛΙΚΟΔΡΟΜΙΟ : 1\n",
            "ΠΕΙΡΑΙΑ : 1\n",
            "ΞΗΡΟΡΕΜΑ ΑΣΠΡΟΠΥΡΓΟΥ : 1\n",
            "ΗΜΕΡΟΣ ΤΟΠΟΣ ΑΣΠΡΟΠΥΡΓΟΥ : 1\n",
            "ΚΟΚΚΙΝΗ : 1\n",
            "ΓΑΛΗΝΗ-ΣΤΕΝΟ ΦΑΝΕΡΩΜΕΝΗΣ : 1\n",
            "ΔΙΟΔΙΑ ΜΑΝΔΡΑΣ : 1\n",
            "ΑΝΩ ΦΟΥΣΑ : 1\n",
            "ΑΝΩ ΒΑΣΙΛΙΚΑ : 1\n",
            "ΑΝΩ ΡΟΥΠΑΚΙ : 1\n",
            "ΧΑΣΙΑ : 1\n",
            "ΜΟΡΝΟΣ : 1\n",
            "ΚΙΝΕΤΤΑ ΣΤΑΥΡΟΣ : 1\n",
            "ΑΓΡ.ΠΕΡ.ΑΦΙΔΝΩΝ : 1\n",
            "ΑΓ.ΙΩΑΝΝΗΣ ΝΗΣΤΙΚΟΣ ΜΕΓΑΡΩΝ : 1\n",
            "ΝΕΑ ΖΩΗ : 1\n",
            "ΓΕΡΜΑΝΙΚΑ ΑΣΠΡΟΠΥΡΓΟΥ : 1\n",
            "ΕΛΕΥΣΙΣ ΟΙΚΙΣΜΟΣ ΔΕΛΠΟΥΡΑ : 1\n",
            "Ν.ΖΩΗ : 1\n",
            "ΕΝΑΝΤΙ ΕΛΛ.ΧΑΛΥΒΟΥΡΓΙΑΣ ΑΣΠΡΟΠΥΡΓΟΣ : 1\n",
            "ΕΛΕΥΣΙΣ ΚΙΝΕΤΤΑ : 1\n"
          ]
        }
      ],
      "source": [
        "fire_counts = dict(location.value_counts()) # counting how many times an area had a fire by counting the times of their presence in the data\n",
        "print('Συχνότητες καμένων περιοχών κατά την περίοδο 2000-2021: \\n')\n",
        "for i in fire_counts.keys():\n",
        "  if i != '-': # because some fires had not an area name, we have to drop this value \n",
        "    print(i, ':', fire_counts[i]) # printing the names of the areas and how many times they got burned\n"
      ]
    },
    {
      "cell_type": "code",
      "execution_count": 10,
      "metadata": {
        "id": "KoEoafbfheIv"
      },
      "outputs": [],
      "source": [
        "loc_counts_df = pd.DataFrame(location.value_counts()) # creating a dataframe that has the areas and the value counts\n",
        "loc_counts_df.columns = [''] * len(loc_counts_df.columns) # changing the names of the columns to no names \n",
        "loc_counts_df = loc_counts_df[np.invert(loc_counts_df.index == '-')] # taking all the areas that don't have the value '-'\n",
        "loc_counts_df.to_excel('fire_counts.xlsx') # extracting this dataframe into an .xlsx file "
      ]
    },
    {
      "cell_type": "code",
      "execution_count": 11,
      "metadata": {
        "colab": {
          "base_uri": "https://localhost:8080/"
        },
        "id": "Ycr55aI7XEhA",
        "outputId": "b35509ca-cfd2-402f-bc2b-14de9438e22c"
      },
      "outputs": [
        {
          "output_type": "stream",
          "name": "stderr",
          "text": [
            "/usr/local/lib/python3.8/dist-packages/pandas/core/indexing.py:1684: SettingWithCopyWarning: \n",
            "A value is trying to be set on a copy of a slice from a DataFrame.\n",
            "Try using .loc[row_indexer,col_indexer] = value instead\n",
            "\n",
            "See the caveats in the documentation: https://pandas.pydata.org/pandas-docs/stable/user_guide/indexing.html#returning-a-view-versus-a-copy\n",
            "  self.obj[key] = infer_fill_value(value)\n",
            "/usr/local/lib/python3.8/dist-packages/pandas/core/indexing.py:1817: SettingWithCopyWarning: \n",
            "A value is trying to be set on a copy of a slice from a DataFrame.\n",
            "Try using .loc[row_indexer,col_indexer] = value instead\n",
            "\n",
            "See the caveats in the documentation: https://pandas.pydata.org/pandas-docs/stable/user_guide/indexing.html#returning-a-view-versus-a-copy\n",
            "  self._setitem_single_column(loc, value, pi)\n"
          ]
        }
      ],
      "source": [
        "# saving the fires with their unique values for the creation of the map \n",
        "df_map = df_attiki_unique.drop_duplicates(subset=['Περιοχή'])\n",
        "\n",
        "# normalizing fire_counts so that the counts represent probability weights, were keys are the areas and the probability weights are the values \n",
        "fire_counts_normalized = {i : j for i,j in zip(fire_counts.keys() , list(list(fire_counts.values()) / max(list(fire_counts.values()))))}\n",
        "df_map.index = range(191) # reindexing the dataframe so that it starts from 0 and doesn't have random indexes\n",
        "# adding the weights to the dataframe \n",
        "for i in list(fire_counts_normalized.keys()): # going through all the names of the areas\n",
        "  for j in range(len(df_map)): # going through the length of the set of the areas (which means they only show up once)\n",
        "    if i == df_map.loc[j, \"Περιοχή\"]: # if the area i is found in the df_map dataframe\n",
        "      df_map.loc[j, 'intensity'] = fire_counts_normalized[i] # then add it's intensity in a different column called intensity \n",
        "      \n",
        "df_map.to_excel('fires.xlsx') # extracting the dataframe with the intensity weights in a .xlsx file "
      ]
    },
    {
      "cell_type": "code",
      "execution_count": 12,
      "metadata": {
        "colab": {
          "base_uri": "https://localhost:8080/"
        },
        "id": "er2K476LwLiL",
        "outputId": "acb592f8-eb0e-434f-fd7c-35e99df16ba0"
      },
      "outputs": [
        {
          "output_type": "stream",
          "name": "stdout",
          "text": [
            "Περιοχή με τις περισσότερες φωτιές στο διάστημα της περιόδου 2000-2021 = ΚΕΡΑΤΕΑ(142)\n"
          ]
        }
      ],
      "source": [
        "print('Περιοχή με τις περισσότερες φωτιές στο διάστημα της περιόδου 2000-2021 = {}({})'\n",
        "      .format(max(fire_counts, key=lambda key: fire_counts[key]),  max(list(fire_counts.values())) )) # creating a lamda function that extracts the area that corresponds to the biggest value of the intensity"
      ]
    },
    {
      "cell_type": "markdown",
      "metadata": {
        "id": "s0IggACkKYkO"
      },
      "source": [
        "#### 2)\tΣύνολο καμμένων εκτάσεων <br>\n"
      ]
    },
    {
      "cell_type": "code",
      "execution_count": 13,
      "metadata": {
        "colab": {
          "base_uri": "https://localhost:8080/"
        },
        "id": "nHHJcN3Rr4pP",
        "outputId": "2d9328f0-d4e8-45b8-943a-78773ac61154"
      },
      "outputs": [
        {
          "output_type": "execute_result",
          "data": {
            "text/plain": [
              "190"
            ]
          },
          "metadata": {},
          "execution_count": 13
        }
      ],
      "source": [
        "len(fire_counts) # counts the areas that have been burned"
      ]
    },
    {
      "cell_type": "markdown",
      "metadata": {
        "id": "IcB1-6vrKeWK"
      },
      "source": [
        "#### 3)\t Πόσες δασικές και πόσες γεωργικές εκτάσεις και διάφορες άλλες ερωτήσεις <br>\n"
      ]
    },
    {
      "cell_type": "code",
      "execution_count": 14,
      "metadata": {
        "id": "gRjvjOyOMO5N"
      },
      "outputs": [],
      "source": [
        "fire_counts = dict(location.value_counts())"
      ]
    },
    {
      "cell_type": "code",
      "execution_count": 15,
      "metadata": {
        "colab": {
          "base_uri": "https://localhost:8080/"
        },
        "id": "zsVLJv3-MO5O",
        "outputId": "4fd896ec-19b7-4e24-c56b-2920aaab4b4a"
      },
      "outputs": [
        {
          "output_type": "stream",
          "name": "stdout",
          "text": [
            "Περιοχή με τις περισσότερες φωτιές στο διάστημα της περιόδου 2000-2021 = ΚΕΡΑΤΕΑ(142)\n"
          ]
        }
      ],
      "source": [
        "print('Περιοχή με τις περισσότερες φωτιές στο διάστημα της περιόδου 2000-2021 = {}({})'\n",
        "      .format(max(fire_counts, key=lambda key: fire_counts[key]),  max(list(fire_counts.values())) ))"
      ]
    },
    {
      "cell_type": "code",
      "execution_count": 16,
      "metadata": {
        "colab": {
          "base_uri": "https://localhost:8080/"
        },
        "id": "eI0DEgtJP_H7",
        "outputId": "65535cac-c842-44c1-a28e-8095f2f10363"
      },
      "outputs": [
        {
          "output_type": "stream",
          "name": "stdout",
          "text": [
            "Συνολικός αριθμός πυρκαγιών στην Ελλάδα : 3556\n"
          ]
        }
      ],
      "source": [
        "print('Συνολικός αριθμός πυρκαγιών στην Ελλάδα : {}'.format( len(df.drop_duplicates(subset='Ημερ/νία Έναρξης'))))"
      ]
    },
    {
      "cell_type": "code",
      "execution_count": 17,
      "metadata": {
        "colab": {
          "base_uri": "https://localhost:8080/"
        },
        "id": "SAfN40fzQrXq",
        "outputId": "5d7d687f-ca98-428b-a1f7-ef72f7168fc8"
      },
      "outputs": [
        {
          "output_type": "stream",
          "name": "stdout",
          "text": [
            "Συνολικός αριθμός πυρκαγιών στην Αττική : 1247\n"
          ]
        }
      ],
      "source": [
        "print('Συνολικός αριθμός πυρκαγιών στην Αττική : {}'.format( len(df_attiki.drop_duplicates(subset='Ημερ/νία Έναρξης'))))"
      ]
    },
    {
      "cell_type": "code",
      "execution_count": 18,
      "metadata": {
        "colab": {
          "base_uri": "https://localhost:8080/"
        },
        "id": "fHDsu9zNbuGc",
        "outputId": "d1786d0a-6217-4a80-eec1-dcde140a1ac9"
      },
      "outputs": [
        {
          "output_type": "stream",
          "name": "stdout",
          "text": [
            "Συνολικός αριθμός καμμένων στρεμμάτων δασών στην Αττική : 127952\n"
          ]
        }
      ],
      "source": [
        "print('Συνολικός αριθμός καμμένων στρεμμάτων δασών στην Αττική : {}'.format(round(df_attiki_unique['Δασική Έκταση'].sum())))"
      ]
    },
    {
      "cell_type": "code",
      "execution_count": 19,
      "metadata": {
        "colab": {
          "base_uri": "https://localhost:8080/"
        },
        "id": "vPHGWMXnfWy5",
        "outputId": "d377e11e-65ac-4911-f0e2-407c10d2c7d4"
      },
      "outputs": [
        {
          "output_type": "stream",
          "name": "stdout",
          "text": [
            "Συνολικός αριθμός καμμένων στρεμμάτων γεωργικών εκτάσεων στην Αττική : 46486\n"
          ]
        }
      ],
      "source": [
        "print('Συνολικός αριθμός καμμένων στρεμμάτων γεωργικών εκτάσεων στην Αττική : {}'.format(round(df_attiki_unique['Γεωργικές Εκτάσεις'].sum())))"
      ]
    },
    {
      "cell_type": "code",
      "execution_count": 20,
      "metadata": {
        "colab": {
          "base_uri": "https://localhost:8080/"
        },
        "id": "B2A0gkjGYJQK",
        "outputId": "6bdf751e-09cb-40dc-a179-24302eff6b4e"
      },
      "outputs": [
        {
          "output_type": "stream",
          "name": "stdout",
          "text": [
            "Συνολικός αριθμός καμμένων δασών : 773\n"
          ]
        }
      ],
      "source": [
        "print('Συνολικός αριθμός καμμένων δασών : {}'.format(len(df_attiki_unique[df_attiki_unique['Δασική Έκταση'] == 0])))"
      ]
    },
    {
      "cell_type": "code",
      "execution_count": 21,
      "metadata": {
        "colab": {
          "base_uri": "https://localhost:8080/"
        },
        "id": "vrrjIruJgCIc",
        "outputId": "9e3a4bd2-2ca3-4c41-9635-5ad2791b91f0"
      },
      "outputs": [
        {
          "output_type": "stream",
          "name": "stdout",
          "text": [
            "Συνολικός αριθμός καμμένων γεωργικών εκτάσεων : 970\n"
          ]
        }
      ],
      "source": [
        "print('Συνολικός αριθμός καμμένων γεωργικών εκτάσεων : {}'.format(len(df_attiki_unique[df_attiki_unique['Γεωργικές Εκτάσεις'] == 0])))"
      ]
    },
    {
      "cell_type": "markdown",
      "metadata": {
        "id": "x4Do2xqoZLYZ"
      },
      "source": [
        "#### 4)\tΧρόνος κατάσβεσης<br>"
      ]
    },
    {
      "cell_type": "code",
      "execution_count": 242,
      "metadata": {
        "id": "8awbfoEaxM_D"
      },
      "outputs": [],
      "source": [
        "# getting a dataframe that has only the listed values and dropping the nan values\n",
        "fire_time = df[['Περιοχή','Ημερ/νία Έναρξης', 'Ημερ/νία Κατασβεσης', 'Ώρα Έναρξης', 'Ώρα Κατάσβεσης']].dropna() \n",
        "\n",
        "# cleaning problematic data\n",
        "drop_list = [] # this list will contain the indexes of data that were not correctly inputted\n",
        "p = re.compile(r'^\\d{4}-\\d{2}-\\d{2}') # creating a regular expression that finds the dates\n",
        "for i in range(len(fire_time.iloc[:,2])): # going through the length of the fire_time df in the dates column \n",
        "  match = re.match(p, str(fire_time.iloc[i,2])) # if the pattern matches the date that is in the i-th row of the data then this is not none\n",
        "  if match == None: # these are the values that don't get matched\n",
        "    drop_list.append(i) # so they are added in the list for dropping \n",
        "fire_time = fire_time.drop(index=drop_list) # dropping the problematic rows \n",
        "fire_time = fire_time[len(df_00_12)::]\n",
        "fire_time.reset_index(drop=True, inplace=True)\n"
      ]
    },
    {
      "cell_type": "code",
      "execution_count": 243,
      "metadata": {
        "id": "njCse2cF9XDN"
      },
      "outputs": [],
      "source": [
        "# correcting the start time and making it a time object so that we can perform time additions and subtractions\n",
        "for i in range(len(fire_time.iloc[:,3])):\n",
        "  fire_time.iloc[i, 3] = pd.to_datetime(str(fire_time.iloc[i, 3])).time()\n"
      ]
    },
    {
      "cell_type": "code",
      "execution_count": 244,
      "metadata": {
        "id": "xzfSWOVaznlA"
      },
      "outputs": [],
      "source": [
        "for i in range(len(fire_time.iloc[:,4])):\n",
        "  fire_time.iloc[i, 4] = pd.to_datetime(str(fire_time.iloc[i, 4])).time() # doing the same as above\n"
      ]
    },
    {
      "cell_type": "code",
      "source": [
        "for i in range(len(fire_time)):\n",
        "\n",
        "  if type(fire_time.loc[i, 'Ημερ/νία Έναρξης' ] == \"<class 'datetime.datetime'>\" ):# if type is datetime\n",
        "    fire_time.loc[i, 'Ημερ/νία Έναρξης' ] = fire_time.loc[i, 'Ημερ/νία Έναρξης' ].strftime('%m-%d-%Y') # make it a string \n",
        "\n",
        "  elif type(fire_time.loc[i, 'Ημερ/νία Έναρξης' ] == \"<class 'str'>\" ): # if type is string \n",
        "    continue # do nothing \n",
        "    \n",
        "# making all dates the same form\n",
        "fire_time['Ημερ/νία Έναρξης'] = np.where(fire_time['Ημερ/νία Έναρξης'].str.contains('-'), \\\n",
        "                                    pd.to_datetime(fire_time['Ημερ/νία Έναρξης']).dt.strftime('%m-%d-%Y'),\n",
        "                                    pd.to_datetime(fire_time['Ημερ/νία Έναρξης'],\n",
        "                                    dayfirst=True).dt.strftime('%m-%d-%Y'))\n",
        "\n",
        "\n",
        "  \n"
      ],
      "metadata": {
        "id": "7GXSPMiI2Af4"
      },
      "execution_count": 245,
      "outputs": []
    },
    {
      "cell_type": "code",
      "source": [
        "for i in range(len(fire_time)):\n",
        "\n",
        "  if type(fire_time.loc[i, 'Ημερ/νία Κατασβεσης' ] == \"<class 'datetime.datetime'>\" ):# if type is datetime\n",
        "    fire_time.loc[i, 'Ημερ/νία Κατασβεσης' ] = fire_time.loc[i, 'Ημερ/νία Κατασβεσης' ].strftime('%m-%d-%Y') # make it a string \n",
        "\n",
        "  elif type(fire_time.loc[i, 'Ημερ/νία Κατασβεσης' ] == \"<class 'str'>\" ): # if type is string \n",
        "    continue # do nothing \n",
        "    \n",
        "# making all dates the same form\n",
        "fire_time['Ημερ/νία Κατασβεσης'] = np.where(fire_time['Ημερ/νία Κατασβεσης'].str.contains('-'), \\\n",
        "                                    pd.to_datetime(fire_time['Ημερ/νία Κατασβεσης']).dt.strftime('%m-%d-%Y'),\n",
        "                                    pd.to_datetime(fire_time['Ημερ/νία Κατασβεσης'],\n",
        "                                    dayfirst=True).dt.strftime('%m-%d-%Y'))\n",
        "\n",
        "\n",
        "  \n"
      ],
      "metadata": {
        "id": "2iLsOSN9z7KM"
      },
      "execution_count": 246,
      "outputs": []
    },
    {
      "cell_type": "code",
      "execution_count": 247,
      "metadata": {
        "id": "jMIMlNuMNqYv"
      },
      "outputs": [],
      "source": [
        "\n",
        "for i in range(len(fire_time)): # i is going through the length of the data frame \n",
        "  try:\n",
        "\n",
        "    start = datetime.datetime.combine(pd.to_datetime(fire_time.iloc[i,1]), fire_time.iloc[i,3]) # combining the start date and time\n",
        "    end = datetime.datetime.combine(pd.to_datetime(fire_time.iloc[i,2]), fire_time.iloc[i,4]) # combining the end date and time\n",
        "    time_elapsed = end - start # finding the differene\n",
        "\n",
        "    if time_elapsed.total_seconds() > 0 or np.invert(np.isnan(time_elapsed.total_seconds)):\n",
        "      fire_time.loc[i,'Χρόνος κατάσβεσης(ώρες)'] = round(time_elapsed.total_seconds()/60/60,2)\n",
        "\n",
        "  except: # if an error is thrown, move to the next iteration \n",
        "      continue\n",
        "\n",
        "fire_time = fire_time.dropna() # dropping any nan values"
      ]
    },
    {
      "cell_type": "code",
      "execution_count": 248,
      "metadata": {
        "id": "CT7TdqK9Uvqx"
      },
      "outputs": [],
      "source": [
        "fire_time.to_excel('fire_time.xlsx') # extracting the dataframe that was created"
      ]
    },
    {
      "cell_type": "markdown",
      "metadata": {
        "id": "rAR1P9gVZLYZ"
      },
      "source": [
        "## Προέρευνα/δουλειά που έχετε ήδη κάνει στο πλαίσιο του σχεδιασμού του πρότζεκτ"
      ]
    },
    {
      "cell_type": "markdown",
      "metadata": {
        "id": "bYQEVtZlZLYa"
      },
      "source": [
        "Η προεργασία, που κάναμε αφορούσε την έρευση ενός θέματος για το οποίο υπήρχαν διαθέσιμες κατηγορίες συνόλων δεδομένων \n",
        "που διατίθενται και σε ανοιχτό μηχαναγνώσιμο μορφότυπο. Καταλήξαμε στην επιλογή του θέματος με τις πυρκαγίες, καθώς στον ιστότοπο του ΠΣ Ελλάδας, υπήρχαν τα δεδομένα αυτά. Επιλέξαμε στην συνέχεια τρια με τέσσερα ερευνητικά, που θέλουμε να απαντήσουμε μέσω scraping των αρχείων  xls. Τέλος φτιάξαμε το αρχείο αυτό, που μας ζητήθηκε."
      ]
    },
    {
      "cell_type": "markdown",
      "metadata": {
        "id": "sJy9O-X2ZLYa"
      },
      "source": [
        "## Απαντήστε \"YES\" ή \"NO\" στα παρακάτω ερωτήματα\n",
        "<i>(Στο στάδιο της πρότασης θέματος που βρίσκεστε, το αναμενόμενο είναι YES. Όσα περισσότερα NO, τόσο λιγότερο έχετε προετοιμαστεί και, άρα, χρειάζεται να σχεδιάσετε καλύτερα το πρότζεκτ σας.)</i>"
      ]
    },
    {
      "cell_type": "code",
      "execution_count": 144,
      "metadata": {
        "colab": {
          "base_uri": "https://localhost:8080/",
          "height": 52
        },
        "id": "cdexLfX_ZLYb",
        "outputId": "4b910081-69c8-4cd1-f9cd-01fc8593e1b0"
      },
      "outputs": [
        {
          "name": "stdout",
          "output_type": "stream",
          "text": [
            "Έχετε ψάξει για πηγές δεδομένων για το θέμα που θέλετε να κάνετε;Yes\n"
          ]
        },
        {
          "output_type": "execute_result",
          "data": {
            "text/plain": [
              "'Yes'"
            ],
            "application/vnd.google.colaboratory.intrinsic+json": {
              "type": "string"
            }
          },
          "metadata": {},
          "execution_count": 144
        }
      ],
      "source": [
        "input(\"Έχετε ψάξει για πηγές δεδομένων για το θέμα που θέλετε να κάνετε;\")   "
      ]
    },
    {
      "cell_type": "code",
      "execution_count": 145,
      "metadata": {
        "colab": {
          "base_uri": "https://localhost:8080/",
          "height": 52
        },
        "id": "VU6o1ob4ZLYd",
        "outputId": "45259e9c-4234-409e-d7d7-0fd9bb22a336"
      },
      "outputs": [
        {
          "name": "stdout",
          "output_type": "stream",
          "text": [
            "Έχετε βρει δεδομένα/πηγές δεδομένων για το θέμα που θέλετε να κάνετε;YESYes\n"
          ]
        },
        {
          "output_type": "execute_result",
          "data": {
            "text/plain": [
              "'Yes'"
            ],
            "application/vnd.google.colaboratory.intrinsic+json": {
              "type": "string"
            }
          },
          "metadata": {},
          "execution_count": 145
        }
      ],
      "source": [
        "input(\"Έχετε βρει δεδομένα/πηγές δεδομένων για το θέμα που θέλετε να κάνετε;\" \"YES\")"
      ]
    },
    {
      "cell_type": "code",
      "execution_count": 146,
      "metadata": {
        "colab": {
          "base_uri": "https://localhost:8080/",
          "height": 52
        },
        "id": "hFta9ws8ZLYd",
        "outputId": "9e0dd06e-b60d-4832-c451-32133c9a8854"
      },
      "outputs": [
        {
          "name": "stdout",
          "output_type": "stream",
          "text": [
            "Έχετε περάσει χρόνο εξερευνώντας τα δεδομένα σας; Έχετε καταλάβει τι έχετε, σε ποια μορφή είναι και ενδεχομένως τι σας λείπει;YESYes\n"
          ]
        },
        {
          "output_type": "execute_result",
          "data": {
            "text/plain": [
              "'Yes'"
            ],
            "application/vnd.google.colaboratory.intrinsic+json": {
              "type": "string"
            }
          },
          "metadata": {},
          "execution_count": 146
        }
      ],
      "source": [
        "input(\"Έχετε περάσει χρόνο εξερευνώντας τα δεδομένα σας; Έχετε καταλάβει τι έχετε, σε ποια μορφή είναι και ενδεχομένως τι σας λείπει;\" \"YES\")"
      ]
    },
    {
      "cell_type": "code",
      "execution_count": 149,
      "metadata": {
        "colab": {
          "base_uri": "https://localhost:8080/",
          "height": 52
        },
        "id": "rRu9SkDqZLYe",
        "outputId": "002f4f61-02fe-46df-ca19-af248ac6078b"
      },
      "outputs": [
        {
          "name": "stdout",
          "output_type": "stream",
          "text": [
            "Έχετε διατυπώσει τα ερευνητικά ερωτήματά σας;YESYes\n"
          ]
        },
        {
          "output_type": "execute_result",
          "data": {
            "text/plain": [
              "'Yes'"
            ],
            "application/vnd.google.colaboratory.intrinsic+json": {
              "type": "string"
            }
          },
          "metadata": {},
          "execution_count": 149
        }
      ],
      "source": [
        "input(\"Έχετε διατυπώσει τα ερευνητικά ερωτήματά σας;\" \"YES\")"
      ]
    },
    {
      "cell_type": "code",
      "execution_count": 151,
      "metadata": {
        "colab": {
          "base_uri": "https://localhost:8080/",
          "height": 52
        },
        "id": "k-IGQbhAZLYe",
        "outputId": "fd56dfd4-5397-49cf-a1c9-47dd8be76495"
      },
      "outputs": [
        {
          "name": "stdout",
          "output_type": "stream",
          "text": [
            "Έχετε σκεφτεί πώς θα αναλύσετε τα δεδομένα σας, για να απαντήσετε τα ερευνητικά ερωτήματά σας;YESYes\n"
          ]
        },
        {
          "output_type": "execute_result",
          "data": {
            "text/plain": [
              "'Yes'"
            ],
            "application/vnd.google.colaboratory.intrinsic+json": {
              "type": "string"
            }
          },
          "metadata": {},
          "execution_count": 151
        }
      ],
      "source": [
        "input(\"Έχετε σκεφτεί πώς θα αναλύσετε τα δεδομένα σας, για να απαντήσετε τα ερευνητικά ερωτήματά σας;\" \"YES\")"
      ]
    },
    {
      "cell_type": "code",
      "execution_count": 153,
      "metadata": {
        "colab": {
          "base_uri": "https://localhost:8080/",
          "height": 52
        },
        "id": "tVtSkZ2SZLYe",
        "outputId": "41e39ebd-5868-4ef0-84e2-272c103360b1"
      },
      "outputs": [
        {
          "name": "stdout",
          "output_type": "stream",
          "text": [
            "Έχετε αρχίσει να σκέφτεστε πώς θα μπορούσατε να οπτικοποιήσετε τις αναλύσεις σας για το τελικό σας story;YESYes\n"
          ]
        },
        {
          "output_type": "execute_result",
          "data": {
            "text/plain": [
              "'Yes'"
            ],
            "application/vnd.google.colaboratory.intrinsic+json": {
              "type": "string"
            }
          },
          "metadata": {},
          "execution_count": 153
        }
      ],
      "source": [
        "input(\"Έχετε αρχίσει να σκέφτεστε πώς θα μπορούσατε να οπτικοποιήσετε τις αναλύσεις σας για το τελικό σας story;\" \"YES\")"
      ]
    },
    {
      "cell_type": "code",
      "execution_count": 154,
      "metadata": {
        "colab": {
          "base_uri": "https://localhost:8080/",
          "height": 72
        },
        "id": "vWoDA4oGZLYf",
        "outputId": "514a01b8-0eff-47d2-dca9-103daa3fa372"
      },
      "outputs": [
        {
          "name": "stdout",
          "output_type": "stream",
          "text": [
            "Έχετε καταθέσει το pitch σας (το προτεινόμενο θέμα σας) σε ένα notebook με filename PITCH_ΟΝΟΜΑΤΕΠΩΝΥΜΟ1_ΟΝΟΜΑΤΕΠΩΝΥΜΟ2;ΑΥΤΟ ΕΔΩ ΕΙΝΑΙYes\n"
          ]
        },
        {
          "output_type": "execute_result",
          "data": {
            "text/plain": [
              "'Yes'"
            ],
            "application/vnd.google.colaboratory.intrinsic+json": {
              "type": "string"
            }
          },
          "metadata": {},
          "execution_count": 154
        }
      ],
      "source": [
        "input(\"Έχετε καταθέσει το pitch σας (το προτεινόμενο θέμα σας) σε ένα notebook με filename PITCH_ΟΝΟΜΑΤΕΠΩΝΥΜΟ1_ΟΝΟΜΑΤΕΠΩΝΥΜΟ2;\" \"ΑΥΤΟ ΕΔΩ ΕΙΝΑΙ\")"
      ]
    },
    {
      "cell_type": "markdown",
      "metadata": {
        "id": "s61CAny3ZLYf"
      },
      "source": [
        "### Feedback!\n",
        "Mπράβο για την ιδέα και που έχετε ήδη αρχίσει να σχεδιάζετε το πρότζεκτ σας! \n",
        "\n",
        "Προτείνω τα εξής: \n",
        "1. Διευκρινίστε εάν θα ασχοληθείτε μόνο με δασικά συμβάντα ή και με αστικά\n",
        "2. Διευκρινίστε ποιο είναι το χρονικό διάστημα μελέτης\n",
        "3. Περάστε χρόνο με τα δεδομένα σας: εξερευνήστε τα data για το χρονικό διάστημα που σας ενδιαφέρει και καταλάβετε τι έχετε, τι δεν έχετε και ποιες τυχόν διαφορές υπάρχουν από χρονιά σε χρονιά στα data που παρέχονται\n",
        "4. Σκεφτείτε τι ακριβώς θα χαρτογραφήσετε: δήμους; περιοχές; ακριβή τοποθεσία συμβάντος; \n",
        "5. Με βάση το 4, αρχίστε να σκέφτεστε μια στρατηγική για το πώς θα χειριστείτε τα δεδομένα σας, ώστε να πετύχετε τη χαρτογράφηση που θέλετε\n",
        "\n",
        "Όσον αφορά στη συλλογή δεδομένων, γράφετε: «Ο υπερσύνδεσμος, που περιλαμβάνει τα σχετικά αρχεία τύπου (xls), που σε αυτά θα γίνει scraping είναι ο ακόλουθος: https://www.fireservice.gr/el/synola-dedomenon». Δεν  χρειάζεται να κάνετε scraping, καθώς τα δεδομένα σας διατίθενται ήδη σε μηχαναγνώσιμο format. Ωστόσο, σας προτείνω να γράψετε έναν μικρό scraper που θα κάνει download τα αρχεία .xls για εξάσκηση :)\n",
        "\n",
        "Ως προς την προεργασία/προέρευνα: Στο κομμάτι αυτό του pitch, ο σκοπός δεν είναι να κάνουμε μία περίληψη όσων έχουμε ήδη περιγράψει παραπάνω. Σκοπός της προέρευνας είναι να κάνετε μια πρώτη, πολύ πρώιμη ανάλυση που θα σας δώσει ένα πρώτο εύρημα, το οποίο θα χρησιμοποιήσετε για να εξηγήσετε σε κάποιον γιατί αυτό το κομμάτι είναι σημαντικό και γιατί έχει νόημα η περαιτέρω δημοσιογραφική έρευνα."
      ]
    }
  ],
  "metadata": {
    "colab": {
      "provenance": []
    },
    "kernelspec": {
      "display_name": "Python 3",
      "language": "python",
      "name": "python3"
    },
    "language_info": {
      "codemirror_mode": {
        "name": "ipython",
        "version": 3
      },
      "file_extension": ".py",
      "mimetype": "text/x-python",
      "name": "python",
      "nbconvert_exporter": "python",
      "pygments_lexer": "ipython3",
      "version": "3.8.5 (v3.8.5:580fbb018f, Jul 20 2020, 12:11:27) \n[Clang 6.0 (clang-600.0.57)]"
    },
    "vscode": {
      "interpreter": {
        "hash": "0adcc2737ebf6a4a119f135174df96668767fca1ef1112612db5ecadf2b6d608"
      }
    }
  },
  "nbformat": 4,
  "nbformat_minor": 0
}